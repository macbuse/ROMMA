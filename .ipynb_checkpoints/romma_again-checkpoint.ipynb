{
 "cells": [
  {
   "cell_type": "markdown",
   "metadata": {},
   "source": [
    "# ROMMA Scraping again\n",
    "\n",
    "Almost everyone knows that you can get time series by scraping pages.\n",
    "\n",
    "\n",
    "https://www.infoclimat.fr/climatologie/normales-records/1981-2010/grenoble-lvd/valeurs/38538002.html\n",
    "\n",
    "http://romma.fr/station_24.php?id=4&tempe=1"
   ]
  },
  {
   "cell_type": "markdown",
   "metadata": {},
   "source": [
    "So I ended up doing averaging the data and doing some linear regression - \n",
    "all the variables:\n",
    "\n",
    "- temperature\n",
    "- humidity \n",
    "- solar radiation\n",
    "- windiness\n",
    "\n",
    "seem to be correlated.\n"
   ]
  },
  {
   "cell_type": "code",
   "execution_count": 1,
   "metadata": {},
   "outputs": [],
   "source": [
    "import matplotlib.pyplot as plt\n",
    "import numpy as np \n",
    "import re\n",
    "import time\n",
    "import requests\n",
    "import html\n"
   ]
  },
  {
   "cell_type": "code",
   "execution_count": 2,
   "metadata": {},
   "outputs": [],
   "source": [
    "pp = re.compile('station_24\\.php\\?id=(\\d+)\"><b>(.*?),')\n",
    "user_agent = {'User-agent': 'Mozilla/5.0'}\n",
    "\n",
    "url = 'http://romma.fr/frame_station24.php'\n",
    "\n",
    "r = requests.get('http://romma.fr', \n",
    "                 headers=user_agent)\n",
    "\n",
    "stations = pp.findall(r.text)"
   ]
  },
  {
   "cell_type": "code",
   "execution_count": 3,
   "metadata": {},
   "outputs": [],
   "source": [
    "code, name = zip(*stations)"
   ]
  },
  {
   "cell_type": "code",
   "execution_count": 109,
   "metadata": {},
   "outputs": [],
   "source": [
    "#stations[:]"
   ]
  },
  {
   "cell_type": "code",
   "execution_count": 4,
   "metadata": {},
   "outputs": [
    {
     "name": "stdout",
     "output_type": "stream",
     "text": [
      "  BREGNIER-CORDON   VIRIAT   PONT-D'AIN   ST-ÉTIENNE-DU-BOIS   BOURG-EN-BRESSE   AMBÉRIEU-EN-BUGEY   SEYSSEL   BRIORD   LEAZ   LHOPITAL   INNIMOND   LELEX   LA VATTAY   SORGIA   MONTOISEY   SISTERON   DIGNE-LES-BAINS   ANNOT   CHAMPTERCIER   LA JAVIE   PRADS-HT-BLEONE   SELONNET   LE VERNET   SEYNE - LE GRAND PUY   SEYNE - LE FAUT   CHABANON   ST-PAUL-SUR-UBAYE   HAUT-CHABANON   GAP   LA BEAUME   EYGLIERS   LA FREISSINOUSE   ST-LEGER-LES-MELEZES   ORCIÈRES-CHAUFFAREL   ORCIÈRES-LES TOURRENGS   LES ORRES   PUY-SAINT-PIERRE   ORCIÈRES   RISTOLAS   SAINT-VÉRAN   COL DU LAUTARET   REFUGE CHAMOISSIERE   PLATEAU DE BURE   GILETTE   NICE   VENCE   TOURRETTE-LEVENS   CLANS   ST-VALLIER-DE-THIEY   CIPIÈRES   ILONSE   THORRENC   GRAVESON   MONTELIMAR   BOURG-LES-VALENCE   GRANGES-LES-BEAUMONT   AOUSTE-SUR-SYE   MONTBRISON-SUR-LEZ   CREST   ST-SORLIN-EN-VALLOIRE   DIE   LE PÈGUE   PEYRUS   RECOUBEAU   ST-JULIEN-EN-QUINT   TESSIÈRRES   ST-AGNAN-EN-VERCORS   VALOUSE   POMMEROL   BOULC   COMBE DE L'OSCENCE   LA CHAPELLE-EN-VERCORS   LE VERSOUD   ST-MARTIN-D'HÈRES   BOUVESSE-QUIRIEU   LUZINAY   L'ISLE-D'ABEAU   NOYAREY   TREPT   ST-VÉRAND   VIZILLE   VOIRON   FARAMANS   ST-BLAISE-DU-BUIS   ST-JOSEPH-DE-RIVIERE   ST-LAURENT-DU-PONT   BEAUCROISSANT   ST-CHRISTOPHE-SUR-G.   CHELIEU   SECHILIENNE   BRION   PINSOT   MIRIBEL-LES-ÉCHELLES   THEYS   ST-PIERRE-DE-CHARTREUSE   ENGINS   CHOLONGE   LES ADRETS   LE SAPPEY-EN-CHARTREUSE   LA FERRIÈRE   LANS-EN-VERCORS   MALLEVAL-EN-VERCORS   LA RUCHÈRE   LA SALETTE-FALLAVAUX   GRESSE-EN-VERCORS   LANS-LES ALLIERES   GRESSE-EN-V./GERLAND   VILLARD-REYMOND   CHAMROUSSE   CHICHILIANNE   HUEZ   LES SEPT-LAUX   CROIX-DE-CHAMROUSSE   CHAMBON   BÉRARDE   LES MOLUNES   LYON   AIX-LES-BAINS   CHINDRIEUX   CHALLES-LES-EAUX   ARITH   MEYRIEU-TROUET   CURIENNE   LA MOTTE-EN-BAUGES   ST-NICOLAS-LA-CHAPELLE   COL DU CLERGEON   LES DÉSERTS   JARRIER   GRANIER   MONTVALEZAN   OBS. ASTRO. DES BAUGES   JARRIER   STE-FOY-TARENTAISE   BESSANS   LA GIETTAZ   VAL-D'ISÈRE   LA ROSIÈRE   LA LÉCHÈRE   VAL-D'ARLY   LAC DU LOU   VAL-THORENS   PRALOGNAN-LA-VANOISE   BONNEVAL-SUR-ARC   TIGNES   GLACIER-GD-PISAILLAS   VALLIERES   RUMILLY   SCIEZ-SUR-LÉMAN   SCIEZ-SUR-LÉMAN   FRANGY   COPPONEX   MARIGNIER   CREMPIGNY   BONNEGUETE   ARCHAMPS   TANINGES   DROISY   SEYTHENEX   ANDILLY   VILLY-LE-BOUVERET   AVIERNOZ   LA ROCHE-SUR-FORON   PASSY   VERCHAIX   LE SAPPEY   THYEZ - SUR LE COUX   MORZINE   CHAMONIX   LA CHAPELLE-D'A.   ST SIXT - ORANGE   ARACHES-LA-FRASSE   CRETS-DU-SALEVE   POINTE-D'HIRMENTAZ   MONT LACHENS   ORANGE   BOLLÈNE   ISLE SUR LA SORGUE   ST-SATURNIN-LES-AVIGNON   PERTUIS   VALRÉAS   ENTRECHAUX   VISAN   GRAMBOIS   SAINT-CHRISTOL   LAGARDE-D'APT   MONT-SEREIN   MONT-VENTOUX   BOUVERET   VERSOIX   ST-TRIPHON   SAXON   LEYSIN   GRIMENTZ   AROLLA   VERBIER   BUTTIGLIERA-ALTA   SAUZE-D'OULX   OSTANA   PETIT-SAINT-BERNARD\n"
     ]
    }
   ],
   "source": [
    "print(' '.join( [html.unescape(x) for x in name]) )"
   ]
  },
  {
   "cell_type": "markdown",
   "metadata": {},
   "source": [
    "## Extracting the data arrays\n",
    "\n",
    "The good stuff is hiden in a frame but is easily accesible"
   ]
  },
  {
   "cell_type": "code",
   "execution_count": 158,
   "metadata": {},
   "outputs": [],
   "source": [
    "def html2arrays(txt):\n",
    "    def val2float(x):\n",
    "        if x == '':\n",
    "            return float('nan')\n",
    "        return float(x)\n",
    "\n",
    "    #I was dumping this from chrome and it  imposes fixed line widths\n",
    "    #txt = re.sub('=\\n','',txt)\n",
    "\n",
    "    #json style null->nan\n",
    "    #because we are going to cast string to float later\n",
    "    txt = re.sub('null', 'nan', txt)\n",
    "\n",
    "    pp = re.compile( 'var ([\\w|\\s]*?)array=.*?\\[(.*?)\\]', re.DOTALL)\n",
    "    mm = pp.findall(txt)\n",
    "\n",
    "    data = dict(mm)\n",
    "    data.keys()\n",
    "\n",
    "    fields = ['time', 'temp', 'pluie', 'intenspluie', \n",
    "              'pression', 'hum', 'rad','rafale','vent','ventdir']\n",
    "    arrays = {}\n",
    "    for key in fields:\n",
    "       \n",
    "        try:\n",
    "            arrays[key] = np.array( [ val2float(x) for x in data[key].split(',')])\n",
    "        except:\n",
    "            print(key)\n",
    "            \n",
    "        #continue\n",
    "        \n",
    "        #this fixes holes in the time series\n",
    "        if key == 'time':\n",
    "            index = (arrays[key] - arrays[key][0])/600000 \n",
    "            index = index.astype(np.int32)\n",
    "            index[index > 4463] = 4463 # just to be safe\n",
    "   \n",
    "        else:\n",
    "            fix = np.zeros(4464)\n",
    "            fix[index] = arrays[key]\n",
    "            arrays[key] = fix\n",
    "            \n",
    "    return arrays\n",
    "        \n",
    "def get_station(ref_num=6):       \n",
    "    url = 'http://romma.fr/frame_station24.php' # why is this hard coded ?\n",
    "    user_agent = {'User-agent': 'Mozilla/5.0'}\n",
    "    \n",
    "    r = requests.post(url, \n",
    "                     headers=user_agent,\n",
    "                     params={\"id_station\":ref_num, \"tempe\":1})\n",
    "    \n",
    "    return r.text\n",
    "\n",
    "smh = 4\n",
    "voiron = 109\n",
    "orange = 54\n",
    "data = {}\n",
    "for k in [3,5,109,44,4,6]: \n",
    "    tt = get_station(ref_num=k)\n",
    "    meteo = html2arrays(tt)\n",
    "    data[k] = meteo\n"
   ]
  },
  {
   "cell_type": "markdown",
   "metadata": {},
   "source": [
    "Vizille = 5 seemed to be out of sync with the other sites"
   ]
  },
  {
   "cell_type": "code",
   "execution_count": 160,
   "metadata": {},
   "outputs": [
    {
     "name": "stdout",
     "output_type": "stream",
     "text": [
      "1592629200000.0\n",
      "1592629200000.0\n",
      "1592629200000.0\n",
      "1592629200000.0\n",
      "1592629200000.0\n",
      "1592629200000.0\n"
     ]
    }
   ],
   "source": [
    "for k in [3,5,109,44,4,6]: \n",
    "    print(data[k]['time'][0])"
   ]
  },
  {
   "cell_type": "code",
   "execution_count": 155,
   "metadata": {},
   "outputs": [
    {
     "data": {
      "text/plain": [
       "120.0"
      ]
     },
     "execution_count": 155,
     "metadata": {},
     "output_type": "execute_result"
    }
   ],
   "source": [
    "(1592553600000.0 - 1592546400000.0) / 60000"
   ]
  },
  {
   "cell_type": "code",
   "execution_count": 162,
   "metadata": {},
   "outputs": [],
   "source": [
    "import pickle\n",
    "\n",
    "def hour(x):\n",
    "    tt = time.localtime(x/1000)\n",
    "    return tt.tm_hour + tt.tm_min/60\n",
    "    \n",
    "day = 24*6\n",
    "\n",
    "# this is a bit risky it assumes there isn't a hole in the data\n",
    "times = np.array([hour(x) for x in meteo['time'][:day]])\n",
    "\n",
    "\n",
    "# use pickle and not json as we have np.array\n",
    "fn = '21July.pkl'\n",
    "data['times'] = times\n",
    "with open(fn,'wb') as fp:\n",
    "    pickle.dump(data,fp)"
   ]
  },
  {
   "cell_type": "code",
   "execution_count": 181,
   "metadata": {},
   "outputs": [
    {
     "data": {
      "text/plain": [
       "[<matplotlib.lines.Line2D at 0x7f56533a1cc0>]"
      ]
     },
     "execution_count": 181,
     "metadata": {},
     "output_type": "execute_result"
    },
    {
     "data": {
      "image/png": "[encoded data removed]",
      "text/plain": [
       "<Figure size 432x288 with 1 Axes>"
      ]
     },
     "metadata": {
      "needs_background": "light"
     },
     "output_type": "display_data"
    }
   ],
   "source": [
    "meteo = data[4]\n",
    "\n",
    "\n",
    "ww = 28*24*6\n",
    "plt.plot(meteo['time'][-ww:], meteo['ventdir'][-ww:],'r')\n",
    "plt.plot( meteo['time'][-ww:], meteo['vent'][-ww:]*20,'g')"
   ]
  },
  {
   "cell_type": "code",
   "execution_count": 163,
   "metadata": {},
   "outputs": [
    {
     "data": {
      "text/plain": [
       "[<matplotlib.lines.Line2D at 0x7f565359fef0>]"
      ]
     },
     "execution_count": 163,
     "metadata": {},
     "output_type": "execute_result"
    },
    {
     "data": {
      "image/png": "[encoded data removed]",
      "text/plain": [
       "<Figure size 432x288 with 1 Axes>"
      ]
     },
     "metadata": {
      "needs_background": "light"
     },
     "output_type": "display_data"
    }
   ],
   "source": [
    "ww = 7*24*6\n",
    "plt.plot(meteo['time'][-ww:], meteo['rafale'][-ww:],'r')\n",
    "#plt.plot(tt[-ww:],np.diff(temp,n=1)[-ww:],'b')\n",
    "plt.plot( meteo['time'][-ww:], meteo['vent'][-ww:],'g')\n",
    "\n",
    "    "
   ]
  },
  {
   "cell_type": "code",
   "execution_count": null,
   "metadata": {},
   "outputs": [],
   "source": []
  },
  {
   "cell_type": "code",
   "execution_count": 164,
   "metadata": {},
   "outputs": [
    {
     "data": {
      "text/plain": [
       "[<matplotlib.lines.Line2D at 0x7f5653465550>]"
      ]
     },
     "execution_count": 164,
     "metadata": {},
     "output_type": "execute_result"
    },
    {
     "data": {
      "image/png": "[encoded data removed]",
      "text/plain": [
       "<Figure size 432x288 with 1 Axes>"
      ]
     },
     "metadata": {
      "needs_background": "light"
     },
     "output_type": "display_data"
    }
   ],
   "source": [
    "\n",
    "def tot(key='rad'):\n",
    "    day = 24*6\n",
    "    tot = np.zeros((day), dtype=np.float32)\n",
    "    for k in range(31):\n",
    "        tot += np.roll(meteo[key], k*day)[:day]\n",
    "    return tot\n",
    "\n",
    "    \n",
    "# this is a bit risky it assumes there isn't a hole in the data\n",
    "times = np.array([hour(x) for x in meteo['time'][:day]])\n",
    "\n",
    "\n",
    "#plt.plot( times, tot(key='vent'),'b.')\n",
    "plt.plot( times ,tot(key='rad')/50,'rx')\n",
    "plt.plot( times ,tot(key='temp')/2,'k.')\n",
    "plt.plot( times ,tot(key='hum')/28,'g.')"
   ]
  },
  {
   "cell_type": "code",
   "execution_count": 163,
   "metadata": {},
   "outputs": [],
   "source": [
    "times = np.arange(144)/6\n"
   ]
  },
  {
   "cell_type": "markdown",
   "metadata": {},
   "source": [
    "# There must be a better way\n",
    "\n",
    "the function tot() kind of sucks  \n",
    "- it's not very **numpy**.\n",
    "\n",
    "what we really need is to \n",
    "\n",
    "1. reshape so that a row represents a day \n",
    "1. sum over the columns to get the average."
   ]
  },
  {
   "cell_type": "code",
   "execution_count": 21,
   "metadata": {},
   "outputs": [
    {
     "data": {
      "text/plain": [
       "(array([[ 0,  1,  2,  3],\n",
       "        [ 4,  5,  6,  7],\n",
       "        [ 8,  9, 10, 11]]), array([12, 15, 18, 21]))"
      ]
     },
     "execution_count": 21,
     "metadata": {},
     "output_type": "execute_result"
    }
   ],
   "source": [
    "np.arange(12).reshape(3,4), np.sum(np.arange(12).reshape(3,4), axis=0)"
   ]
  },
  {
   "cell_type": "code",
   "execution_count": 166,
   "metadata": {},
   "outputs": [
    {
     "data": {
      "image/png": "[encoded data removed]",
      "text/plain": [
       "<Figure size 432x288 with 1 Axes>"
      ]
     },
     "metadata": {
      "needs_background": "light"
     },
     "output_type": "display_data"
    }
   ],
   "source": [
    "npts = 4464\n",
    "ndays = npts//24//6\n",
    "\n",
    "cols = [ x for x in 'rgbky']\n",
    "\n",
    "for k in [3,4,5,6]:\n",
    "    mm = data[k]['temp'].reshape(ndays, 24*6)/ndays\n",
    "    mm[mm>1000] = 0\n",
    "    plt.plot(times, np.sum(mm, axis=0), cols.pop(0) + '.')"
   ]
  },
  {
   "cell_type": "code",
   "execution_count": 167,
   "metadata": {},
   "outputs": [],
   "source": [
    "npts = 4464\n",
    "ndays = npts//24//6\n",
    "\n",
    "\n",
    "blacklist = ['time', 'pression', 'ventdir', 'pluie', 'intenspluie']\n",
    "averages = {}\n",
    "\n",
    "for station, series in data.items():\n",
    "    #I stored the times as a field it's an ndarray not dict\n",
    "    if station == 'times': continue\n",
    "    tmp = {}\n",
    "    for tag, xx in series.items():\n",
    "        if tag in blacklist: continue\n",
    "        mm = xx.reshape(ndays, 24*6)/ndays\n",
    "        #clean up the nan\n",
    "        mm[np.isnan(mm)] = 0\n",
    "        #kill outliers in rad\n",
    "        mm[mm>1000] = 0\n",
    "        tmp[tag] = np.sum(mm, axis=0)\n",
    "    averages[station] = tmp\n",
    "     "
   ]
  },
  {
   "cell_type": "markdown",
   "metadata": {},
   "source": [
    "## Let's show them all in a multiplot"
   ]
  },
  {
   "cell_type": "code",
   "execution_count": 169,
   "metadata": {},
   "outputs": [
    {
     "data": {
      "image/png": "[encoded data removed]",
      "text/plain": [
       "<Figure size 576x576 with 4 Axes>"
      ]
     },
     "metadata": {
      "needs_background": "light"
     },
     "output_type": "display_data"
    }
   ],
   "source": [
    "fig, axs = plt.subplots(2,2)\n",
    "#[axi.set_axis_off() for axi in axs.ravel()]\n",
    "fig.set_size_inches(8,8)\n",
    "\n",
    "meteo = averages[3]\n",
    "\n",
    "for k,tag in enumerate(['rafale','temp','hum','rad']):\n",
    "\n",
    "    axs[k % 2 , k // 2].plot(times, meteo[tag],'r.')\n",
    "    axs[k % 2 , k // 2].set_title(tag)\n",
    "    "
   ]
  },
  {
   "cell_type": "markdown",
   "metadata": {},
   "source": [
    "## Humidity and temerature\n",
    "\n",
    "they seem to be correlated so let's do a linear regression to see if that is actually the case.\n",
    "\n",
    "There might be **nan**s in the arrays so mask them out before doing the regression."
   ]
  },
  {
   "cell_type": "code",
   "execution_count": 170,
   "metadata": {},
   "outputs": [],
   "source": [
    "from scipy import stats\n",
    "\n",
    "cors = {}\n",
    "for k in [4,5,6,109]:\n",
    "    x = data[k]\n",
    "    X = np.sum( x['temp'].reshape(ndays, 24*6)/ndays, axis=0)\n",
    "    Y = np.sum( x['hum'].reshape(ndays, 24*6)/ndays, axis=0)\n",
    "\n",
    "    mask = ~(np.isnan(X) | np.isnan(Y))\n",
    "    cors[k] = stats.linregress( X[mask], Y[mask])"
   ]
  },
  {
   "cell_type": "code",
   "execution_count": 171,
   "metadata": {},
   "outputs": [
    {
     "data": {
      "text/plain": [
       "{4: LinregressResult(slope=-3.0218851479491944, intercept=131.02476950401666, rvalue=-0.9972050918770983, pvalue=7.052354144807788e-162, stderr=0.018999597245034992),\n",
       " 5: LinregressResult(slope=-3.045295531204571, intercept=135.32976589730515, rvalue=-0.9944270164296619, pvalue=1.221080175396012e-140, stderr=0.027093512611454387),\n",
       " 6: LinregressResult(slope=-3.3923551234092395, intercept=139.42847465719487, rvalue=-0.9967246584007131, pvalue=5.3981604125316884e-157, stderr=0.023097731352487678),\n",
       " 109: LinregressResult(slope=-2.6754122057920853, intercept=120.16521149892878, rvalue=-0.976752216382286, pvalue=1.5905017835848804e-95, stderr=0.04962598905569754)}"
      ]
     },
     "execution_count": 171,
     "metadata": {},
     "output_type": "execute_result"
    }
   ],
   "source": [
    "cors"
   ]
  },
  {
   "cell_type": "markdown",
   "metadata": {},
   "source": [
    "### Retiming\n",
    "\n",
    "I have to plot the data against time otherwise it's offset\n",
    "so that midnight is no longer at zero."
   ]
  },
  {
   "cell_type": "code",
   "execution_count": 172,
   "metadata": {},
   "outputs": [
    {
     "data": {
      "text/plain": [
       "[<matplotlib.lines.Line2D at 0x7f56530eb978>]"
      ]
     },
     "execution_count": 172,
     "metadata": {},
     "output_type": "execute_result"
    },
    {
     "data": {
      "image/png": "[encoded data removed]",
      "text/plain": [
       "<Figure size 432x288 with 1 Axes>"
      ]
     },
     "metadata": {
      "needs_background": "light"
     },
     "output_type": "display_data"
    }
   ],
   "source": [
    "k = 5\n",
    "\n",
    "vv = cors[k]\n",
    "a, b = vv.slope, vv.intercept\n",
    "\n",
    "x = data[k]\n",
    "X = np.sum( x['temp'].reshape(ndays, 24*6)/ndays, axis=0)\n",
    "Y = np.sum( x['hum'].reshape(ndays, 24*6)/ndays, axis=0)\n",
    "\n",
    "plt.plot(times,Y,'r.')\n",
    "#plt.plot(times,X,'g.')\n",
    "plt.plot(times, a*X + b, 'b.')"
   ]
  },
  {
   "cell_type": "markdown",
   "metadata": {},
   "source": [
    "## Finally calculate the time of max temperature\n",
    "\n",
    "I checked this by hand it seems to be pretty accurate"
   ]
  },
  {
   "cell_type": "code",
   "execution_count": 192,
   "metadata": {},
   "outputs": [
    {
     "data": {
      "text/plain": [
       "['Jul 20 13:40',\n",
       " 'Jul 19 13:50',\n",
       " 'Jul 18 14:20',\n",
       " 'Jul 17 13:00',\n",
       " 'Jul 16 12:30',\n",
       " 'Jul 15 15:40',\n",
       " 'Jul 14 11:50',\n",
       " 'Jul 13 13:30',\n",
       " 'Jul 12 13:50',\n",
       " 'Jul 11 13:30',\n",
       " 'Jul 10 12:30',\n",
       " 'Jul  9 13:40',\n",
       " 'Jul  8 13:50',\n",
       " 'Jul  7 13:40',\n",
       " 'Jul  6 12:20',\n",
       " 'Jul  5 13:50',\n",
       " 'Jul  4 13:30',\n",
       " 'Jul  3 14:20',\n",
       " 'Jul  2 14:10',\n",
       " 'Jul  1 15:40',\n",
       " 'Jun 30 13:40',\n",
       " 'Jun 29 12:40',\n",
       " 'Jun 28 15:20',\n",
       " 'Jun 27 12:50',\n",
       " 'Jun 26 14:10',\n",
       " 'Jun 25 13:20',\n",
       " 'Jun 24 13:30',\n",
       " 'Jun 23 13:30',\n",
       " 'Jun 22 12:20']"
      ]
     },
     "execution_count": 192,
     "metadata": {},
     "output_type": "execute_result"
    }
   ],
   "source": [
    "time_tics = data[3]['time']\n",
    "\n",
    "TS = data[109]['rad']\n",
    "\n",
    "numdays = 30\n",
    "ts = [i for i in range(-1,-1 - numdays*24*6, -24*6)]\n",
    "\n",
    "#use smh as a reference the others don't seem reliable\n",
    "day_intervals = [list(zip( TS, time_tics))[i:j] \n",
    "                                       for i,j in  zip(ts[1:],ts)]\n",
    "mx = [max(day) for day in day_intervals if day]\n",
    "x,y = zip(*mx)\n",
    "[time.ctime(t/1000.)[4:16] for t in y]"
   ]
  },
  {
   "cell_type": "code",
   "execution_count": 76,
   "metadata": {},
   "outputs": [
    {
     "data": {
      "text/plain": [
       "[<matplotlib.lines.Line2D at 0x7e94fd1f2cf8>]"
      ]
     },
     "execution_count": 76,
     "metadata": {},
     "output_type": "execute_result"
    },
    {
     "data": {
      "image/png": "[encoded data removed]",
      "text/plain": [
       "<Figure size 432x288 with 1 Axes>"
      ]
     },
     "metadata": {
      "needs_background": "light"
     },
     "output_type": "display_data"
    }
   ],
   "source": [
    "XS, YS = zip(*mx)\n",
    "YS = [(int(y)//1000 % (24*3600)) /3600 for y in YS]\n",
    "plt.plot(YS,XS, 'rx')"
   ]
  },
  {
   "cell_type": "markdown",
   "metadata": {},
   "source": [
    "## Calculate the length of a day"
   ]
  },
  {
   "cell_type": "code",
   "execution_count": 151,
   "metadata": {},
   "outputs": [
    {
     "data": {
      "text/plain": [
       "(19.333333333333332, 4.333333333333333)"
      ]
     },
     "execution_count": 151,
     "metadata": {},
     "output_type": "execute_result"
    }
   ],
   "source": [
    "day_light = times[averages[5]['rad'] > 4]\n",
    "max(day_light), min(day_light)"
   ]
  },
  {
   "cell_type": "code",
   "execution_count": null,
   "metadata": {},
   "outputs": [],
   "source": []
  },
  {
   "cell_type": "code",
   "execution_count": 126,
   "metadata": {},
   "outputs": [
    {
     "data": {
      "text/plain": [
       "[<matplotlib.lines.Line2D at 0x7f565320a668>]"
      ]
     },
     "execution_count": 126,
     "metadata": {},
     "output_type": "execute_result"
    },
    {
     "data": {
      "image/png": "[encoded data removed]",
      "text/plain": [
       "<Figure size 432x288 with 1 Axes>"
      ]
     },
     "metadata": {
      "needs_background": "light"
     },
     "output_type": "display_data"
    }
   ],
   "source": [
    "trans = [int(y)//1000 % (24*3600) /3600 for y in night]\n",
    "trans = [ min(x,8) for x in trans ]\n",
    "\n",
    "plt.plot(range(len(trans)),trans,'rx')"
   ]
  },
  {
   "cell_type": "code",
   "execution_count": 24,
   "metadata": {},
   "outputs": [
    {
     "name": "stdout",
     "output_type": "stream",
     "text": [
      "[master 55a8f72] web\n",
      " 4 files changed, 898 insertions(+), 872 deletions(-)\n",
      " create mode 100644 19July.json\n",
      " create mode 100644 19July.pkl\n",
      " create mode 100644 20July.pkl\n",
      " rewrite romma_again.ipynb (62%)\n",
      "Enumerating objects: 8, done.\n",
      "Counting objects: 100% (8/8), done.\n",
      "Delta compression using up to 4 threads\n",
      "Compressing objects: 100% (5/5), done.\n",
      "Writing objects: 100% (6/6), 340.26 KiB | 965.00 KiB/s, done.\n",
      "Total 6 (delta 1), reused 0 (delta 0)\n",
      "remote: Resolving deltas: 100% (1/1), done.\u001b[K\n",
      "To https://github.com/macbuse/ROMMA.git\n",
      "   6d7d020..55a8f72  master -> master\n"
     ]
    }
   ],
   "source": [
    "! ./.g\n"
   ]
  },
  {
   "cell_type": "code",
   "execution_count": 111,
   "metadata": {},
   "outputs": [
    {
     "data": {
      "text/plain": [
       "9"
      ]
     },
     "execution_count": 111,
     "metadata": {},
     "output_type": "execute_result"
    }
   ],
   "source": [
    "4464 - 4455"
   ]
  },
  {
   "cell_type": "code",
   "execution_count": 115,
   "metadata": {},
   "outputs": [
    {
     "data": {
      "text/plain": [
       "4455"
      ]
     },
     "execution_count": 115,
     "metadata": {},
     "output_type": "execute_result"
    }
   ],
   "source": [
    "tt = get_station(ref_num=109)\n",
    "meteo = html2arrays(tt)\n",
    "len(meteo['time'])"
   ]
  },
  {
   "cell_type": "code",
   "execution_count": 135,
   "metadata": {},
   "outputs": [],
   "source": [
    "index = (meteo['time'] - meteo['time'][0])/600000 \n",
    "index = index.astype(np.int32)"
   ]
  },
  {
   "cell_type": "code",
   "execution_count": 136,
   "metadata": {},
   "outputs": [],
   "source": []
  },
  {
   "cell_type": "code",
   "execution_count": 139,
   "metadata": {},
   "outputs": [
    {
     "data": {
      "text/plain": [
       "9"
      ]
     },
     "execution_count": 139,
     "metadata": {},
     "output_type": "execute_result"
    }
   ],
   "source": [
    "uu = np.diff(index)\n",
    "sum( uu[uu > min(uu)] - min(uu) )"
   ]
  },
  {
   "cell_type": "code",
   "execution_count": 128,
   "metadata": {},
   "outputs": [
    {
     "data": {
      "text/plain": [
       "31"
      ]
     },
     "execution_count": 128,
     "metadata": {},
     "output_type": "execute_result"
    }
   ],
   "source": [
    "4464 // 24 //6"
   ]
  },
  {
   "cell_type": "code",
   "execution_count": 193,
   "metadata": {},
   "outputs": [
    {
     "name": "stdout",
     "output_type": "stream",
     "text": [
      "[master 33829c4] web\n",
      " 2 files changed, 86 insertions(+), 82 deletions(-)\n",
      "Enumerating objects: 7, done.\n",
      "Counting objects: 100% (7/7), done.\n",
      "Delta compression using up to 4 threads\n",
      "Compressing objects: 100% (4/4), done.\n",
      "Writing objects: 100% (4/4), 901 bytes | 300.00 KiB/s, done.\n",
      "Total 4 (delta 2), reused 0 (delta 0)\n",
      "remote: Resolving deltas: 100% (2/2), completed with 2 local objects.\u001b[K\n",
      "To https://github.com/macbuse/ROMMA.git\n",
      "   66763a9..33829c4  master -> master\n"
     ]
    }
   ],
   "source": [
    "! ./.g"
   ]
  },
  {
   "cell_type": "code",
   "execution_count": 157,
   "metadata": {},
   "outputs": [
    {
     "name": "stdout",
     "output_type": "stream",
     "text": [
      "/home/gregmcshane/ROMMA\n"
     ]
    }
   ],
   "source": [
    "!pwd\n"
   ]
  },
  {
   "cell_type": "code",
   "execution_count": null,
   "metadata": {},
   "outputs": [],
   "source": []
  }
 ],
 "metadata": {
  "kernelspec": {
   "display_name": "Python 3",
   "language": "python",
   "name": "python3"
  },
  "language_info": {
   "codemirror_mode": {
    "name": "ipython",
    "version": 3
   },
   "file_extension": ".py",
   "mimetype": "text/x-python",
   "name": "python",
   "nbconvert_exporter": "python",
   "pygments_lexer": "ipython3",
   "version": "3.6.5"
  }
 },
 "nbformat": 4,
 "nbformat_minor": 2
}
