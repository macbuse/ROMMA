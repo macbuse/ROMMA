{
 "cells": [
  {
   "cell_type": "markdown",
   "metadata": {},
   "source": [
    "# ROMMA Scraping again\n",
    "\n",
    "Almost everyone knows that you can get time series by scraping pages.\n",
    "\n",
    "\n",
    "https://www.infoclimat.fr/climatologie/normales-records/1981-2010/grenoble-lvd/valeurs/38538002.html\n",
    "\n",
    "http://romma.fr/station_24.php?id=4&tempe=1"
   ]
  },
  {
   "cell_type": "markdown",
   "metadata": {},
   "source": [
    "## Correlation between altitude and temperature\n",
    "\n",
    "I actually did this after looking at the local data (see below).\n",
    "The main problem was to get the correct page served. The data\n",
    "is \"hidden\" behind a request like this\n",
    "\n",
    "```/carte.php?dept=0&param=temperature&mobile=0&carteinterne=0```\n",
    "\n",
    "but I kept getting a 403 error\n",
    "when I asked for it using **get**. The problem was that I \n",
    "didn't set the User-Agent string correctly. After I copied \n",
    "it over from Chrome everything was easy.\n",
    "\n",
    "\n",
    "\n",
    "## Local data\n",
    "\n",
    "So I ended up doing averaging the data and doing some linear regression - \n",
    "all the variables:\n",
    "\n",
    "- temperature\n",
    "- humidity \n",
    "- solar radiation\n",
    "- windiness\n",
    "\n",
    "seem to be correlated.\n"
   ]
  },
  {
   "cell_type": "code",
   "execution_count": 1,
   "metadata": {},
   "outputs": [],
   "source": [
    "import matplotlib.pyplot as plt\n",
    "import numpy as np \n",
    "import re\n",
    "import time\n",
    "\n",
    "import requests\n",
    "import html\n",
    "\n",
    "from scipy import stats"
   ]
  },
  {
   "cell_type": "code",
   "execution_count": 2,
   "metadata": {},
   "outputs": [
    {
     "data": {
      "text/plain": [
       "36"
      ]
     },
     "execution_count": 2,
     "metadata": {},
     "output_type": "execute_result"
    }
   ],
   "source": [
    "6*6"
   ]
  },
  {
   "cell_type": "code",
   "execution_count": 2,
   "metadata": {},
   "outputs": [],
   "source": [
    "pp = re.compile('station_24\\.php\\?id=(\\d+)\"><b>(.*?),(.*?)m')\n",
    "user_agent = {'User-agent': 'Mozilla/5.0'}\n",
    "\n",
    "url = 'http://romma.fr/frame_station24.php'\n",
    "\n",
    "r = requests.get('http://romma.fr', \n",
    "                 headers=user_agent)\n",
    "\n",
    "stations = pp.findall(r.text)"
   ]
  },
  {
   "cell_type": "code",
   "execution_count": 3,
   "metadata": {},
   "outputs": [],
   "source": [
    "code, name, alt = zip(*stations)\n",
    "alt = [int(x) for x in alt]"
   ]
  },
  {
   "cell_type": "code",
   "execution_count": 4,
   "metadata": {},
   "outputs": [
    {
     "data": {
      "image/png": "[encoded data removed]",
      "text/plain": [
       "<Figure size 432x288 with 1 Axes>"
      ]
     },
     "metadata": {
      "needs_background": "light"
     },
     "output_type": "display_data"
    }
   ],
   "source": [
    "plt.hist(alt, bins=30);"
   ]
  },
  {
   "cell_type": "code",
   "execution_count": null,
   "metadata": {},
   "outputs": [],
   "source": [
    "GET /carte.php?dept=0 HTTP/1.1\n",
    "Host: www.romma.fr\n",
    "Connection: keep-alive\n",
    "Cache-Control: max-age=0\n",
    "DNT: 1\n",
    "Upgrade-Insecure-Requests: 1\n",
    "User-Agent: Mozilla/5.0 (X11; CrOS x86_64 13597.15.0) AppleWebKit/537.36 (KHTML, like Gecko) Chrome/88.0.4324.22 Safari/537.36\n",
    "Accept: text/html,application/xhtml+xml,application/xml;q=0.9,image/avif,image/webp,image/apng,*/*;q=0.8,application/signed-exchange;v=b3;q=0.9\n",
    "Sec-Fetch-Site: none\n",
    "Sec-Fetch-Mode: navigate\n",
    "Sec-Fetch-User: ?1\n",
    "Sec-Fetch-Dest: document\n",
    "Accept-Encoding: gzip, deflate, br\n",
    "Accept-Language: en-IE,en;q=0.9,fr-FR;q=0.8,fr;q=0.7,zh-CN;q=0.6,zh;q=0.5,en-US;q=0.4,nl;q=0.3\n",
    "Cookie: rid=51Yg44; paramtab=0; ui-tabs-1=1\n"
   ]
  },
  {
   "cell_type": "code",
   "execution_count": 5,
   "metadata": {},
   "outputs": [],
   "source": [
    "pr = re.compile('<tr>(.*?)</tr>', re.DOTALL)\n",
    "\n",
    "url = r'https://www.romma.fr/carte.php?dept=0'\n",
    "\n",
    "#https://stackoverflow.com/questions/38489386/python-requests-403-forbidden\n",
    "user_agent = {'User-Agent': \"Mozilla/5.0 (X11; CrOS x86_64 13099.62.0) AppleWebKit/537.36 (KHTML, like Gecko) Chrome/84.0.4147.83 Safari/537.36\"}\n",
    "\n",
    "params = {'dept' : 0}\n",
    "params = {}\n",
    "  \n",
    "r = requests.get(url, \n",
    "                headers=user_agent,\n",
    "                params=params)\n",
    "\n",
    "fn = 'romma_{:.0f}.html'.format(time.time())\n",
    "with open(fn,'w') as fp:\n",
    "    fp.write(r.text)\n",
    "\n"
   ]
  },
  {
   "cell_type": "code",
   "execution_count": 6,
   "metadata": {},
   "outputs": [
    {
     "data": {
      "text/plain": [
       "'<!DOCTYPE html PUBLIC \"-//W3C//DTD XHTML 1.0 Strict//EN\" \"http://www.w3.org/TR/xhtml1/DTD/xhtml1-strict.dtd\">\\r\\n<html xmlns=\"http://www.w3.org/1999/xhtml\" xml:lang=\"fr\" lang=\"fr\">\\r\\n<head>\\r\\n<title>R&eacute;seau d\\'Observation M&eacute;t&eacute;o du Massif Alpin</title>\\r\\n <meta http-equiv=\"Content-Type\" content=\"text/html; charset=iso-8859-1\" />\\r\\n <!--<meta http-equiv=\"Content-Type\" content=\"text/html; charset=UTF-8\" />-->\\r\\n<meta http-equiv=\"Content-Style-Type\" content=\"text/css\" />\\r\\n<meta http-equiv=\"Content-Language\" content=\"fr\" />\\r\\n<meta http-equiv=\"Pragma\" content=\"no-cache\">\\r\\n<meta http-equiv=\"X-UA-Compatible\" content=\"IE=9; IE=8; IE=7; IE=EDGE\" />\\r\\n<meta name=\"keywords\" content=\"météo, meteo, meteo en france, météo alpes, meteo alpes, meteo haute savoie, météo haute savoie, météo savoie, meteo savoie, météo isere, météo isère, météo hautes alpes, meteo hautes alpes, neige, enneigement, prévision météo alpes, previsions meteo alpes, previsions meteo haute savoie, prévision météo haute savoie, prévision météo savoie, previsions meteo savoie, prévision météo isère, meteo isere, prévision météo hautes alpes, previsions meteo hautes alpes, enneigement, avalanche, enneigement haute savoie, enneigement savoie, enneigement isere, enneigement hautes alpes\">\\r\\n<link href=\"/css/template_large.css\" rel=\"stylesheet\" type=\"text/css\" />\\r\\n<link href=\"/css/jquery-ui-1.8.17.custom.css\" rel=\"stylesheet\" type=\"text/css\" />\\r\\n<link href=\"/menu/cssmenu/cssmenu.css\" rel=\"stylesheet\" type=\"text/css\" />\\r\\n<link type=\"text/css\" rel=\"stylesheet\" href=\"https://cdnjs.cloudflare.com/ajax/libs/datatables/1.10.15/css/jquery.dataTables.min.css\"/>\\r\\n <!-- détéction du navigateur -->\\r\\n<script type=\"text/javascript\" src=\"menu/browserdetect.js\"></script>\\r\\n<script type=\"text/javascript\" src=\"./js/jquery-1.7.1.min.js\"></script>\\r\\n<script type=\"text/javascript\" src=\"./js/jquery-ui-1.8.16.custom.min.js\"></script>\\r\\n<script type=\"text/javascript\" src=\"./js/jquery-blink.js\"></script>\\r\\n<script type=\"text/javascr'"
      ]
     },
     "execution_count": 6,
     "metadata": {},
     "output_type": "execute_result"
    }
   ],
   "source": [
    "r.text[:2000]"
   ]
  },
  {
   "cell_type": "code",
   "execution_count": 7,
   "metadata": {},
   "outputs": [],
   "source": [
    "px = re.compile('overlib\\((.*?)CAPTION,(.*?)\\);',re.DOTALL)\n",
    "tt = re.compile(\"class=\\\\\\\\'blanc\\\\\\\\'>(.*?)</td\")\n",
    "#tt = re.compile(r\"<td class=>\\'blanc\\'</td>\")\n",
    "\n",
    "xxx = []\n",
    "for k, ss in enumerate(px.findall(r.text)):\n",
    "    if k  % 2: continue\n",
    "    station_data, station_name = ss\n",
    "    xxx.append( station_name + tt.findall(station_data)[0] )\n",
    "    \n",
    "xxx = ' '.join(xxx)\n"
   ]
  },
  {
   "cell_type": "code",
   "execution_count": 12,
   "metadata": {},
   "outputs": [
    {
     "data": {
      "image/png": "[encoded data removed]",
      "text/plain": [
       "<Figure size 720x720 with 1 Axes>"
      ]
     },
     "metadata": {
      "needs_background": "light"
     },
     "output_type": "display_data"
    }
   ],
   "source": [
    "nps = re.compile(\"\\'(.*?)\\((\\d+).*?>(.*?)<\")\n",
    "# drop anywhere that hasn't give a valid temperature\n",
    "valid_pairs = [x for x in nps.findall(xxx) if '--' not in x[-1] and 'NA' not in x[-1]]\n",
    "\n",
    "#cast strings to numbers\n",
    "N, A, T = list(zip(* valid_pairs ) )\n",
    "A = np.array([int(x) for x in A])\n",
    "T = np.array([float(x) for x in T])\n",
    "\n",
    "fig, ax = plt.subplots()\n",
    "fig.set_size_inches(10,10)\n",
    "\n",
    "ax.plot(A,T,'r.') \n",
    "\n",
    "#I commented this out to see what it looked like \n",
    "#when I do the regression after taking outliers out.\n",
    "vv = stats.linregress(A,T)\n",
    "X = np.array([0,3000])\n",
    "ax.plot(X, vv.slope*X + vv.intercept)\n",
    "\n",
    "#find the outliers\n",
    "mask = abs((vv.slope*A + vv.intercept) - T) > 5\n",
    "\n",
    "#label the outliers\n",
    "labels = [x for x, y in zip(N, mask) if  y]\n",
    "\n",
    "for label, x, y in zip(labels, A[mask], T[mask]):\n",
    "    ax.annotate(\n",
    "        label,\n",
    "        xy=(x, y), xytext=(-10, 10),\n",
    "        textcoords='offset points', ha='right', va='bottom',\n",
    "        bbox=dict(boxstyle='round,pad=0.5', fc='yellow', alpha=0.5),\n",
    "        arrowprops=dict(arrowstyle = '->', connectionstyle='arc3,rad=0'))\n",
    "\n",
    "\n",
    "plt.xlabel('Altitude');\n",
    "plt.ylabel('Temperature');"
   ]
  },
  {
   "cell_type": "code",
   "execution_count": 10,
   "metadata": {},
   "outputs": [
    {
     "data": {
      "text/plain": [
       "nan"
      ]
     },
     "execution_count": 10,
     "metadata": {},
     "output_type": "execute_result"
    }
   ],
   "source": []
  },
  {
   "cell_type": "code",
   "execution_count": 11,
   "metadata": {},
   "outputs": [
    {
     "data": {
      "text/plain": [
       "(-215.5975986349733, -0.868767449528063)"
      ]
     },
     "execution_count": 11,
     "metadata": {},
     "output_type": "execute_result"
    }
   ],
   "source": [
    "1/vv.slope, vv.rvalue"
   ]
  },
  {
   "cell_type": "markdown",
   "metadata": {},
   "source": [
    "Let's redo the regression without the outliers"
   ]
  },
  {
   "cell_type": "code",
   "execution_count": 13,
   "metadata": {},
   "outputs": [
    {
     "data": {
      "text/plain": [
       "LinregressResult(slope=-0.007187132787161442, intercept=14.569258979468986, rvalue=-0.9437096146997054, pvalue=4.417470208326642e-110, stderr=0.00016794181102814962, intercept_stderr=0.18745626375188076)"
      ]
     },
     "execution_count": 13,
     "metadata": {},
     "output_type": "execute_result"
    }
   ],
   "source": [
    "U = np.copy(T)\n",
    "diff = (vv.slope*A + vv.intercept) - T\n",
    "mask = abs(diff) > 4\n",
    "U[mask] = (vv.slope*A[mask] + vv.intercept) \n",
    "vv = stats.linregress(A,U)\n",
    "vv"
   ]
  },
  {
   "cell_type": "code",
   "execution_count": 14,
   "metadata": {},
   "outputs": [
    {
     "data": {
      "image/png": "[encoded data removed]",
      "text/plain": [
       "<Figure size 432x288 with 1 Axes>"
      ]
     },
     "metadata": {
      "needs_background": "light"
     },
     "output_type": "display_data"
    }
   ],
   "source": [
    "plt.hist((vv.slope*A[~mask] + vv.intercept) - T[~mask], bins= 15);"
   ]
  },
  {
   "cell_type": "code",
   "execution_count": 15,
   "metadata": {},
   "outputs": [
    {
     "data": {
      "text/plain": [
       "['Les Molunes ',\n",
       " 'Chamonix ',\n",
       " 'Thyez - Sur le Coux ',\n",
       " 'Seyne - Le Fau ',\n",
       " 'Lans-en-Vercors ',\n",
       " 'Buttigliera Alta ',\n",
       " 'Gap ',\n",
       " 'La Vattay ',\n",
       " \"Pont-d\\\\'Ain \",\n",
       " 'Montagna-le-Templier ',\n",
       " 'Ilonse ',\n",
       " 'Nice ',\n",
       " 'Vence ',\n",
       " 'Saint-Vallier-de-Thiey ',\n",
       " 'Tourrette-Levens ',\n",
       " 'Cipières ',\n",
       " 'Champtercier ',\n",
       " 'Sophia-Antipolis ',\n",
       " 'Prads-Haute-Bléone ',\n",
       " 'La Thuile ',\n",
       " 'Caïre Petit ',\n",
       " 'Saorge ',\n",
       " 'Caille ',\n",
       " 'Hautecourt ',\n",
       " 'Tende - Castérino ',\n",
       " 'Sospel ',\n",
       " 'Montagna-le-templier ',\n",
       " 'Arith ']"
      ]
     },
     "execution_count": 15,
     "metadata": {},
     "output_type": "execute_result"
    }
   ],
   "source": [
    "[x for x, y in zip(N, abs(diff) > 4) if y]"
   ]
  },
  {
   "cell_type": "markdown",
   "metadata": {},
   "source": [
    "http://romma.fr/carte.php?dept=0&param=temperature&mobile=0&carteinterne=0\n",
    "\n",
    "\n",
    "document.querySelector(\"#carte > div:nth-child(321)\")\n",
    "document.querySelector(\"#carte > div:nth-child(46)\")\n",
    "document.querySelector(\"#carte > div:nth-child(213)\")\n"
   ]
  },
  {
   "cell_type": "markdown",
   "metadata": {},
   "source": [
    "## Extracting the data arrays\n",
    "\n",
    "The good stuff is hiden in a frame but is easily accesible"
   ]
  },
  {
   "cell_type": "code",
   "execution_count": 16,
   "metadata": {},
   "outputs": [
    {
     "name": "stdout",
     "output_type": "stream",
     "text": [
      "https://www.romma.fr/frame_station24.php?id_station={}&tempe=1&humi=&pluie=&vent=&pressure=&rayonnement=&neige=\n",
      "https://www.romma.fr/frame_station24.php?id_station={}&tempe=1&humi=&pluie=&vent=&pressure=&rayonnement=&neige=\n",
      "https://www.romma.fr/frame_station24.php?id_station={}&tempe=1&humi=&pluie=&vent=&pressure=&rayonnement=&neige=\n",
      "https://www.romma.fr/frame_station24.php?id_station={}&tempe=1&humi=&pluie=&vent=&pressure=&rayonnement=&neige=\n",
      "https://www.romma.fr/frame_station24.php?id_station={}&tempe=1&humi=&pluie=&vent=&pressure=&rayonnement=&neige=\n"
     ]
    }
   ],
   "source": [
    "def html2arrays(txt):\n",
    "    def val2float(x):\n",
    "        if x == '':\n",
    "            return float('nan')\n",
    "        return float(x)\n",
    "\n",
    "    #I was dumping this from chrome and it  imposes fixed line widths\n",
    "    #txt = re.sub('=\\n','',txt)\n",
    "\n",
    "    #json style null->nan\n",
    "    #because we are going to cast string to float later\n",
    "    txt = re.sub('null', 'nan', txt)\n",
    "\n",
    "    pp = re.compile( 'var ([\\w|\\s]*?)array=.*?\\[(.*?)\\]', re.DOTALL)\n",
    "    mm = pp.findall(txt)\n",
    "\n",
    "    data = dict(mm)\n",
    "    data.keys()\n",
    "\n",
    "    fields = ['time', 'temp', 'pluie', 'intenspluie', \n",
    "              'pression', 'hum', 'rad','rafale','vent','ventdir']\n",
    "    arrays = {}\n",
    "    for key in fields:\n",
    "       \n",
    "        try:\n",
    "            arrays[key] = np.array( [ val2float(x) for x in data[key].split(',')])\n",
    "        except:\n",
    "            print(key)\n",
    "            \n",
    "        #continue\n",
    "        \n",
    "        #this fixes holes in the time series\n",
    "        if key == 'time':\n",
    "            index = (arrays[key] - arrays[key][0])/600000 \n",
    "            index = index.astype(np.int32)\n",
    "            index[index > 4463] = 4463 # just to be safe\n",
    "   \n",
    "        else:\n",
    "            fix = np.zeros(4464)\n",
    "            fix[index] = arrays[key]\n",
    "            arrays[key] = fix\n",
    "            \n",
    "    return arrays\n",
    "        \n",
    "def get_station(ref_num=6):       \n",
    "    url =  'https://www.romma.fr/frame_station24.php?id_station={}&tempe=1&humi=&pluie=&vent=&pressure=&rayonnement=&neige='\n",
    "\n",
    "    headers = {'User-Agent': \"Mozilla/5.0 (X11; CrOS x86_64 13099.62.0) AppleWebKit/537.36 (KHTML, like Gecko) Chrome/84.0.4147.83 Safari/537.36\",\n",
    "             'Host': 'romma.fr',\n",
    "            'Referer': 'https://www.romma.fr/station_24.php?id=4&tempe=1'}\n",
    "    print(url)\n",
    "    \n",
    "    r = requests.post(url.format(ref_num) , \n",
    "                     headers=headers)\n",
    "    \n",
    "    return r.text\n",
    "\n",
    "\n",
    "data = {}\n",
    "for k in [3,5,109,44,4]: \n",
    "    tt = get_station(ref_num=k)\n",
    "    meteo = html2arrays(tt)\n",
    "    data[k] = meteo\n"
   ]
  },
  {
   "cell_type": "code",
   "execution_count": 19,
   "metadata": {},
   "outputs": [
    {
     "name": "stdout",
     "output_type": "stream",
     "text": [
      "https://www.romma.fr/frame_station24.php?id_station={}&tempe=1&humi=&pluie=&vent=&pressure=&rayonnement=&neige=\n"
     ]
    }
   ],
   "source": [
    "tt = get_station()"
   ]
  },
  {
   "cell_type": "code",
   "execution_count": 23,
   "metadata": {},
   "outputs": [
    {
     "data": {
      "text/plain": [
       "[('time', '')]"
      ]
     },
     "execution_count": 23,
     "metadata": {},
     "output_type": "execute_result"
    }
   ],
   "source": [
    "pp = re.compile( 'var ([\\w|\\s]*?)array=.*?\\[(.*?)\\]', re.DOTALL)\n",
    "pp.findall(tt)"
   ]
  },
  {
   "cell_type": "code",
   "execution_count": 18,
   "metadata": {},
   "outputs": [
    {
     "data": {
      "text/plain": [
       "'<!DOCTYPE html PUBLIC \"-//W3C//DTD XHTML 1.0 Strict//EN\" \"http://www.w3.org/TR/xhtml1/DTD/xhtml1-strict.dtd\">\\n<!--  nb données = 4464 --><html xmlns=\"http://www.w3.org/1999/xhtml\" xml:lang=\"fr\" lang=\"fr\"><!-- InstanceBegin template=\"/Templates/trame_site_V1.dwt.php\" codeOutsideHTMLIsLocked=\"false\" -->\\n<head>\\n    <title>R&eacute;seau d\\'Observation M&eacute;t&eacute;o du Massif Alpin</title>\\n    <meta http-equiv=\"Content-Type\" content=\"text/html; charset=iso-8859-15\" />\\n    <meta http-equiv=\"Content-Style-Type\" content=\"text/css\" />\\n    <meta http-equiv=\"Content-Language\" content=\"fr\" />\\n    <link href=\"css/template_large.css\" rel=\"stylesheet\" type=\"text/css\" />\\n    <link href=\"./css/smoothness/jquery-ui-1.8.16.custom.css\" rel=\"stylesheet\" type=\"text/css\" />\\n    <style>\\n        body\\n        {\\n            margin: 10px 0 ;\\n            padding: 0 ;\\n            text-align: center ;\\n            font: 0.9em \"Trebuchet MS\", helvetica, sans-serif ;\\n            background: #FFFFFF;\\n        }\\n    '"
      ]
     },
     "execution_count": 18,
     "metadata": {},
     "output_type": "execute_result"
    }
   ],
   "source": [
    "tt[:1000]"
   ]
  },
  {
   "cell_type": "code",
   "execution_count": 19,
   "metadata": {},
   "outputs": [],
   "source": [
    "url = 'https://www.romma.fr/frame_station24.php?id_station=3&tempe=1&humi=&pluie=&vent=&pressure=&rayonnement=&neige='\n",
    "headers = {'User-Agent': \"Mozilla/5.0 (X11; CrOS x86_64 13099.62.0) AppleWebKit/537.36 (KHTML, like Gecko) Chrome/84.0.4147.83 Safari/537.36\",\n",
    "             'Host': 'romma.fr',\n",
    "          'Referer': 'https://www.romma.fr/station_24.php?id=4&tempe=1'}\n",
    "\n",
    "   \n",
    "r = requests.post(url, \n",
    "                 headers=headers)\n"
   ]
  },
  {
   "cell_type": "code",
   "execution_count": 41,
   "metadata": {},
   "outputs": [
    {
     "data": {
      "text/plain": [
       "<Response [200]>"
      ]
     },
     "execution_count": 41,
     "metadata": {},
     "output_type": "execute_result"
    }
   ],
   "source": [
    "r"
   ]
  },
  {
   "cell_type": "code",
   "execution_count": 27,
   "metadata": {},
   "outputs": [
    {
     "data": {
      "text/plain": [
       "b'<!DOCTYPE HTML PUBLIC \"-//IETF//DTD HTML 2.0//EN\">\\n<html><head>\\n<title>404 Not Found</title>\\n</head><body>\\n<h1>Not Found</h1>\\n<p>The requested URL was not found on this server.</p>\\n<hr>\\n<address>Apache/2.4.38 (Debian) Server at romma.fr Port 443</address>\\n</body></html>\\n'"
      ]
     },
     "execution_count": 27,
     "metadata": {},
     "output_type": "execute_result"
    }
   ],
   "source": [
    "GET /frame_station24.php?id_station=4&tempe=1&humi=&pluie=&vent=&pressure=&rayonnement=&neige= HTTP/1.1\n",
    "Host: www.romma.fr\n",
    "Connection: keep-alive\n",
    "Upgrade-Insecure-Requests: 1\n",
    "DNT: 1\n",
    "User-Agent: Mozilla/5.0 (X11; CrOS x86_64 13505.27.0) AppleWebKit/537.36 (KHTML, like Gecko) Chrome/87.0.4280.38 Safari/537.36\n",
    "Accept: text/html,application/xhtml+xml,application/xml;q=0.9,image/avif,image/webp,image/apng,*/*;q=0.8,application/signed-exchange;v=b3;q=0.9\n",
    "Sec-Fetch-Site: same-origin\n",
    "Sec-Fetch-Mode: navigate\n",
    "Sec-Fetch-Dest: iframe\n",
    "Referer: https://www.romma.fr/station_24.php?id=4&tempe=1\n",
    "Accept-Encoding: gzip, deflate, br\n",
    "Accept-Language: en-IE,en;q=0.9,fr-FR;q=0.8,fr;q=0.7,zh-CN;q=0.6,zh;q=0.5,en-US;q=0.4,nl;q=0.3\n",
    "Cookie: rid=51Yg44; paramtab=0; ui-tabs-1=1\n"
   ]
  },
  {
   "cell_type": "markdown",
   "metadata": {},
   "source": [
    "Vizille = 5 seemed to be out of sync with the other sites"
   ]
  },
  {
   "cell_type": "code",
   "execution_count": 21,
   "metadata": {},
   "outputs": [
    {
     "name": "stdout",
     "output_type": "stream",
     "text": [
      "1660721400000.0\n",
      "1660721400000.0\n",
      "1660721400000.0\n",
      "1660721400000.0\n",
      "1660721400000.0\n"
     ]
    }
   ],
   "source": [
    "for k in [3,5,109,44,4]: \n",
    "    print(data[k]['time'][0])"
   ]
  },
  {
   "cell_type": "code",
   "execution_count": 155,
   "metadata": {},
   "outputs": [
    {
     "data": {
      "text/plain": [
       "120.0"
      ]
     },
     "execution_count": 155,
     "metadata": {},
     "output_type": "execute_result"
    }
   ],
   "source": [
    "(1592553600000.0 - 1592546400000.0) / 60000"
   ]
  },
  {
   "cell_type": "code",
   "execution_count": 26,
   "metadata": {},
   "outputs": [],
   "source": [
    "import pickle\n",
    "\n",
    "def hour(x):\n",
    "    tt = time.localtime(x/1000)\n",
    "    return tt.tm_hour + tt.tm_min/60\n",
    "    \n",
    "day = 24*6\n",
    "\n",
    "# this is a bit risky it assumes there isn't a hole in the data\n",
    "times = np.array([hour(x) for x in data[4]['time'][:day]])\n",
    "\n",
    "\n",
    "# use pickle and not json as we have np.array\n",
    "fn = '17_sep.pkl'\n",
    "data['times'] = times\n",
    "with open(fn,'wb') as fp:\n",
    "    pickle.dump(data,fp)"
   ]
  },
  {
   "cell_type": "code",
   "execution_count": 23,
   "metadata": {},
   "outputs": [
    {
     "data": {
      "text/plain": [
       "[<matplotlib.lines.Line2D at 0x7fbf22e38fd0>]"
      ]
     },
     "execution_count": 23,
     "metadata": {},
     "output_type": "execute_result"
    },
    {
     "data": {
      "image/png": "[encoded data removed]",
      "text/plain": [
       "<Figure size 432x288 with 1 Axes>"
      ]
     },
     "metadata": {
      "needs_background": "light"
     },
     "output_type": "display_data"
    }
   ],
   "source": [
    "meteo = data[4]\n",
    "\n",
    "\n",
    "ww = 28*24*6\n",
    "\n",
    "plt.plot(meteo['time'][-ww:], meteo['ventdir'][-ww:],'r')\n",
    "plt.plot( meteo['time'][-ww:], meteo['vent'][-ww:]*20,'g')"
   ]
  },
  {
   "cell_type": "code",
   "execution_count": 24,
   "metadata": {},
   "outputs": [
    {
     "data": {
      "text/plain": [
       "[<matplotlib.lines.Line2D at 0x7fbf22ddc100>]"
      ]
     },
     "execution_count": 24,
     "metadata": {},
     "output_type": "execute_result"
    },
    {
     "data": {
      "image/png": "[encoded data removed]",
      "text/plain": [
       "<Figure size 432x288 with 1 Axes>"
      ]
     },
     "metadata": {
      "needs_background": "light"
     },
     "output_type": "display_data"
    }
   ],
   "source": [
    "ww = 7*24*6\n",
    "plt.plot(meteo['time'][-ww:], meteo['rafale'][-ww:],'r')\n",
    "#plt.plot(tt[-ww:],np.diff(temp,n=1)[-ww:],'b')\n",
    "plt.plot( meteo['time'][-ww:], meteo['vent'][-ww:],'g')\n",
    "\n",
    "    "
   ]
  },
  {
   "cell_type": "code",
   "execution_count": null,
   "metadata": {},
   "outputs": [],
   "source": []
  },
  {
   "cell_type": "code",
   "execution_count": 25,
   "metadata": {},
   "outputs": [
    {
     "data": {
      "text/plain": [
       "[<matplotlib.lines.Line2D at 0x7fbf22f516d0>]"
      ]
     },
     "execution_count": 27,
     "metadata": {},
     "output_type": "execute_result"
    },
    {
     "data": {
      "image/png": "[encoded data removed]",
      "text/plain": [
       "<Figure size 432x288 with 1 Axes>"
      ]
     },
     "metadata": {
      "needs_background": "light"
     },
     "output_type": "display_data"
    }
   ],
   "source": [
    "# should probably rewrite this with reshape()\n",
    "\n",
    "def tot(key='rad'):\n",
    "    day = 24*6\n",
    "    tot = np.zeros((day), dtype=np.float32)\n",
    "    for k in range(31):\n",
    "        tot += np.roll(meteo[key], k*day)[:day]\n",
    "    return tot\n",
    "\n",
    "    \n",
    "# this is a bit risky it assumes there isn't a hole in the data\n",
    "times = np.array([hour(x) for x in meteo['time'][:day]])\n",
    "\n",
    "\n",
    "#plt.plot( times, tot(key='vent'),'b.')\n",
    "plt.plot( times ,tot(key='rad')/50,'rx')\n",
    "plt.plot( times ,tot(key='temp')/2,'k.')\n",
    "plt.plot( times ,tot(key='hum')/28,'g.')"
   ]
  },
  {
   "cell_type": "code",
   "execution_count": 29,
   "metadata": {},
   "outputs": [],
   "source": [
    "times = np.arange(144)/6\n"
   ]
  },
  {
   "cell_type": "markdown",
   "metadata": {},
   "source": [
    "# There must be a better way\n",
    "\n",
    "the function tot() kind of sucks  \n",
    "- it's not very **numpy**.\n",
    "\n",
    "what we really need is to \n",
    "\n",
    "1. reshape so that a row represents a day \n",
    "1. sum over the columns to get the average."
   ]
  },
  {
   "cell_type": "code",
   "execution_count": 21,
   "metadata": {},
   "outputs": [
    {
     "data": {
      "text/plain": [
       "(array([[ 0,  1,  2,  3],\n",
       "        [ 4,  5,  6,  7],\n",
       "        [ 8,  9, 10, 11]]), array([12, 15, 18, 21]))"
      ]
     },
     "execution_count": 21,
     "metadata": {},
     "output_type": "execute_result"
    }
   ],
   "source": [
    "np.arange(12).reshape(3,4), np.sum(np.arange(12).reshape(3,4), axis=0)"
   ]
  },
  {
   "cell_type": "code",
   "execution_count": 31,
   "metadata": {},
   "outputs": [
    {
     "data": {
      "image/png": "[encoded data removed]",
      "text/plain": [
       "<Figure size 432x288 with 1 Axes>"
      ]
     },
     "metadata": {
      "needs_background": "light"
     },
     "output_type": "display_data"
    }
   ],
   "source": [
    "npts = 4464\n",
    "ndays = npts//24//6\n",
    "\n",
    "cols = [ x for x in 'rgbky']\n",
    "\n",
    "# 6 is corrupted so it didn't load\n",
    "for k in [3,4,5]:\n",
    "    mm = data[k]['temp'].reshape(ndays, 24*6)/ndays\n",
    "    #clean up the nan\n",
    "    mm[np.isnan(mm)] = 0\n",
    "    mm[mm>1000] = 0\n",
    "    plt.plot(times, np.sum(mm, axis=0), cols.pop(0) + '.')"
   ]
  },
  {
   "cell_type": "code",
   "execution_count": 32,
   "metadata": {},
   "outputs": [],
   "source": [
    "npts = 4464\n",
    "ndays = npts//24//6\n",
    "\n",
    "blacklist = ['time', 'pression', \n",
    "             'ventdir', 'pluie', \n",
    "             'intenspluie']\n",
    "\n",
    "averages = {}\n",
    "\n",
    "for station, series in data.items():\n",
    "    #I stored the times as a field it's an ndarray not dict\n",
    "    if station == 'times': continue\n",
    "    tmp = {}\n",
    "    for tag, xx in series.items():\n",
    "        if tag in blacklist: continue\n",
    "        mm = xx.reshape(ndays, 24*6)/ndays\n",
    "        #clean up the nan\n",
    "        mm[np.isnan(mm)] = 0\n",
    "        #kill outliers in rad\n",
    "        mm[mm>1000] = 0\n",
    "        tmp[tag] = np.sum(mm, axis=0)\n",
    "    averages[station] = tmp\n",
    "     "
   ]
  },
  {
   "cell_type": "markdown",
   "metadata": {},
   "source": [
    "## Let's show them all in a multiplot"
   ]
  },
  {
   "cell_type": "code",
   "execution_count": 36,
   "metadata": {},
   "outputs": [
    {
     "data": {
      "image/png": "[encoded data removed]",
      "text/plain": [
       "<Figure size 576x576 with 4 Axes>"
      ]
     },
     "metadata": {
      "needs_background": "light"
     },
     "output_type": "display_data"
    }
   ],
   "source": [
    "fig, axs = plt.subplots(2,2)\n",
    "#[axi.set_axis_off() for axi in axs.ravel()]\n",
    "fig.set_size_inches(8,8)\n",
    "\n",
    "meteo = averages[5]\n",
    "\n",
    "for k,tag in enumerate(['rafale','temp','hum','rad']):\n",
    "\n",
    "    axs[k % 2 , k // 2].plot(times, meteo[tag],'r.')\n",
    "    axs[k % 2 , k // 2].set_title(tag)\n",
    "    "
   ]
  },
  {
   "cell_type": "markdown",
   "metadata": {},
   "source": [
    "# Sunshine over a month"
   ]
  },
  {
   "cell_type": "code",
   "execution_count": 184,
   "metadata": {},
   "outputs": [
    {
     "data": {
      "image/png": "[encoded data removed]",
      "text/plain": [
       "<Figure size 432x288 with 1 Axes>"
      ]
     },
     "metadata": {
      "needs_background": "light"
     },
     "output_type": "display_data"
    }
   ],
   "source": [
    "xx = np.copy(data[4]['rad'])\n",
    "xx[xx > 2000] = 1000\n",
    "xx = xx.reshape(31, len(xx)//31 )\n",
    "\n",
    "for x in xx:\n",
    "    if sum(x) < 35000: continue\n",
    "    plt.plot(np.convolve(x,np.ones(6))/6 )"
   ]
  },
  {
   "cell_type": "code",
   "execution_count": 191,
   "metadata": {},
   "outputs": [
    {
     "data": {
      "text/plain": [
       "[<matplotlib.lines.Line2D at 0x7fa9a976d0f0>]"
      ]
     },
     "execution_count": 191,
     "metadata": {},
     "output_type": "execute_result"
    },
    {
     "data": {
      "image/png": "[encoded data removed]",
      "text/plain": [
       "<Figure size 432x288 with 1 Axes>"
      ]
     },
     "metadata": {
      "needs_background": "light"
     },
     "output_type": "display_data"
    }
   ],
   "source": [
    "plt.plot([sum(x) for x in xx],'r-')"
   ]
  },
  {
   "cell_type": "markdown",
   "metadata": {},
   "source": [
    "## Humidity and temperature\n",
    "\n",
    "they seem to be correlated so let's do a linear regression to see if that is actually the case.\n",
    "\n",
    "There might be **nan**s in the arrays so mask them out before doing the regression."
   ]
  },
  {
   "cell_type": "code",
   "execution_count": 192,
   "metadata": {},
   "outputs": [],
   "source": [
    "from scipy import stats\n",
    "\n",
    "cors = {}\n",
    "for k in [3,4,5,6,109]:\n",
    "    x = data[k]\n",
    "    X = np.sum( x['temp'].reshape(ndays, 24*6)/ndays, axis=0)\n",
    "    Y = np.sum( x['hum'].reshape(ndays, 24*6)/ndays, axis=0)\n",
    "\n",
    "    mask = ~(np.isnan(X) | np.isnan(Y))\n",
    "    cors[k] = stats.linregress( X[mask], Y[mask])"
   ]
  },
  {
   "cell_type": "code",
   "execution_count": 193,
   "metadata": {},
   "outputs": [
    {
     "data": {
      "text/plain": [
       "{3: LinregressResult(slope=-0.19110208104744422, intercept=77.13673974184037, rvalue=-0.21444092960366498, pvalue=0.010116405778747018, stderr=0.0733036838367571),\n",
       " 4: LinregressResult(slope=-3.0097099747342506, intercept=130.54678025904084, rvalue=-0.9973370898886585, pvalue=2.2831382853717435e-163, stderr=0.01846896005041522),\n",
       " 5: LinregressResult(slope=-3.028282245204879, intercept=134.84021286633964, rvalue=-0.993976627063515, pvalue=2.9947835834283367e-138, stderr=0.028019211801428624),\n",
       " 6: LinregressResult(slope=-3.3110073718837683, intercept=137.2393557999482, rvalue=-0.9969033456491834, pvalue=1.0117975331182666e-158, stderr=0.021917338258521518),\n",
       " 109: LinregressResult(slope=-2.7249459297370366, intercept=121.19107074344143, rvalue=-0.9779881901843425, pvalue=3.6240069850456903e-97, stderr=0.04913602090582902)}"
      ]
     },
     "execution_count": 193,
     "metadata": {},
     "output_type": "execute_result"
    }
   ],
   "source": [
    "cors"
   ]
  },
  {
   "cell_type": "markdown",
   "metadata": {},
   "source": [
    "### Retiming\n",
    "\n",
    "I have to plot the data against time otherwise it's offset\n",
    "so that midnight is no longer at zero."
   ]
  },
  {
   "cell_type": "code",
   "execution_count": 225,
   "metadata": {},
   "outputs": [
    {
     "data": {
      "text/plain": [
       "[<matplotlib.lines.Line2D at 0x7f5652fa7d68>]"
      ]
     },
     "execution_count": 225,
     "metadata": {},
     "output_type": "execute_result"
    },
    {
     "data": {
      "image/png": "[encoded data removed]",
      "text/plain": [
       "<Figure size 432x288 with 1 Axes>"
      ]
     },
     "metadata": {
      "needs_background": "light"
     },
     "output_type": "display_data"
    }
   ],
   "source": [
    "k = 109\n",
    "\n",
    "vv = cors[k]\n",
    "a, b = vv.slope, vv.intercept\n",
    "\n",
    "x = data[k]\n",
    "X = np.sum( x['temp'].reshape(ndays, 24*6)/ndays, axis=0)\n",
    "Y = np.sum( x['hum'].reshape(ndays, 24*6)/ndays, axis=0)\n",
    "\n",
    "plt.plot(times,Y,'r.')\n",
    "#plt.plot(times,X,'g.')\n",
    "plt.plot(times, a*X + b, 'b.')"
   ]
  },
  {
   "cell_type": "markdown",
   "metadata": {},
   "source": [
    "## Finally calculate the time of max temperature\n",
    "\n",
    "I checked this by hand it seems to be pretty accurate\n",
    "but there is a bug with multiple days"
   ]
  },
  {
   "cell_type": "code",
   "execution_count": 586,
   "metadata": {},
   "outputs": [
    {
     "data": {
      "text/plain": [
       "['Jul 21 16:20',\n",
       " 'Jul 20 18:00',\n",
       " 'Jul 20 14:50',\n",
       " 'Jul 19 15:10',\n",
       " 'Jul 18 15:10',\n",
       " 'Jul 16 18:20',\n",
       " 'Jul 15 16:40',\n",
       " 'Jul 14 17:40',\n",
       " 'Jul 13 16:50',\n",
       " 'Jul 12 16:50',\n",
       " 'Jul 12 15:10',\n",
       " 'Jul 10 17:20',\n",
       " 'Jul  9 18:40',\n",
       " 'Jul  9 15:10',\n",
       " 'Jul  8 15:10',\n",
       " 'Jul  6 16:40',\n",
       " 'Jul  5 18:40',\n",
       " 'Jul  5 15:10',\n",
       " 'Jul  4 15:00',\n",
       " 'Jul  2 16:50',\n",
       " 'Jul  1 15:50',\n",
       " 'Jul  1 15:00',\n",
       " 'Jun 29 17:30',\n",
       " 'Jun 28 17:30',\n",
       " 'Jun 27 17:10',\n",
       " 'Jun 27 15:00',\n",
       " 'Jun 25 17:20',\n",
       " 'Jun 24 18:20',\n",
       " 'Jun 24 15:10']"
      ]
     },
     "execution_count": 586,
     "metadata": {},
     "output_type": "execute_result"
    }
   ],
   "source": [
    "time_tics = data[3]['time']\n",
    "\n",
    "TS = data[109]['temp']\n",
    "\n",
    "numdays = 30\n",
    "ts = [i for i in range(-1,-1 - numdays*24*6, -24*6)]\n",
    "\n",
    "#use smh as a reference the others don't seem reliable\n",
    "day_intervals = [list(zip( TS, time_tics))[i:j] \n",
    "                                       for i,j in  zip(ts[1:],ts)]\n",
    "mx = [max(day) for day in day_intervals if day]\n",
    "x,y = zip(*mx)\n",
    "[time.ctime(t/1000.)[4:16] for t in y]"
   ]
  },
  {
   "cell_type": "code",
   "execution_count": 76,
   "metadata": {},
   "outputs": [
    {
     "data": {
      "text/plain": [
       "[<matplotlib.lines.Line2D at 0x7e94fd1f2cf8>]"
      ]
     },
     "execution_count": 76,
     "metadata": {},
     "output_type": "execute_result"
    },
    {
     "data": {
      "image/png": "[encoded data removed]",
      "text/plain": [
       "<Figure size 432x288 with 1 Axes>"
      ]
     },
     "metadata": {
      "needs_background": "light"
     },
     "output_type": "display_data"
    }
   ],
   "source": [
    "XS, YS = zip(*mx)\n",
    "YS = [(int(y)//1000 % (24*3600)) /3600 for y in YS]\n",
    "plt.plot(YS,XS, 'rx')"
   ]
  },
  {
   "cell_type": "markdown",
   "metadata": {},
   "source": [
    "## Calculate the length of a day"
   ]
  },
  {
   "cell_type": "code",
   "execution_count": 209,
   "metadata": {},
   "outputs": [
    {
     "name": "stdout",
     "output_type": "stream",
     "text": [
      "3 21.333333333333332 6.0\n",
      "5 21.333333333333332 6.166666666666667\n",
      "109 21.166666666666668 6.0\n",
      "4 21.333333333333332 6.166666666666667\n",
      "6 21.333333333333332 6.166666666666667\n"
     ]
    }
   ],
   "source": [
    "for k, y in averages.items():\n",
    "    if max(y['rad']) == 0: continue\n",
    "    day_light = times[y['rad'] > 4]\n",
    "    print(k, max(day_light), min(day_light) )"
   ]
  },
  {
   "cell_type": "code",
   "execution_count": 208,
   "metadata": {},
   "outputs": [
    {
     "data": {
      "text/plain": [
       "0.0"
      ]
     },
     "execution_count": 208,
     "metadata": {},
     "output_type": "execute_result"
    }
   ],
   "source": [
    "min(averages[44]['rad'])"
   ]
  },
  {
   "cell_type": "code",
   "execution_count": 126,
   "metadata": {},
   "outputs": [
    {
     "data": {
      "text/plain": [
       "[<matplotlib.lines.Line2D at 0x7f565320a668>]"
      ]
     },
     "execution_count": 126,
     "metadata": {},
     "output_type": "execute_result"
    },
    {
     "data": {
      "image/png": "[encoded data removed]",
      "text/plain": [
       "<Figure size 432x288 with 1 Axes>"
      ]
     },
     "metadata": {
      "needs_background": "light"
     },
     "output_type": "display_data"
    }
   ],
   "source": [
    "trans = [int(y)//1000 % (24*3600) /3600 for y in night]\n",
    "trans = [ min(x,8) for x in trans ]\n",
    "\n",
    "plt.plot(range(len(trans)),trans,'rx')"
   ]
  },
  {
   "cell_type": "code",
   "execution_count": 516,
   "metadata": {},
   "outputs": [
    {
     "name": "stdout",
     "output_type": "stream",
     "text": [
      "[master 300c919] web\n",
      " 2 files changed, 165 insertions(+), 101 deletions(-)\n",
      "Enumerating objects: 7, done.\n",
      "Counting objects: 100% (7/7), done.\n",
      "Delta compression using up to 4 threads\n",
      "Compressing objects: 100% (4/4), done.\n",
      "Writing objects: 100% (4/4), 30.53 KiB | 976.00 KiB/s, done.\n",
      "Total 4 (delta 2), reused 0 (delta 0)\n",
      "remote: Resolving deltas: 100% (2/2), completed with 2 local objects.\u001b[K\n",
      "To https://github.com/macbuse/ROMMA.git\n",
      "   991f4c4..300c919  master -> master\n"
     ]
    }
   ],
   "source": [
    "! ./.g\n"
   ]
  },
  {
   "cell_type": "code",
   "execution_count": 111,
   "metadata": {},
   "outputs": [
    {
     "data": {
      "text/plain": [
       "9"
      ]
     },
     "execution_count": 111,
     "metadata": {},
     "output_type": "execute_result"
    }
   ],
   "source": [
    "4464 - 4455"
   ]
  },
  {
   "cell_type": "code",
   "execution_count": 115,
   "metadata": {},
   "outputs": [
    {
     "data": {
      "text/plain": [
       "4455"
      ]
     },
     "execution_count": 115,
     "metadata": {},
     "output_type": "execute_result"
    }
   ],
   "source": [
    "tt = get_station(ref_num=109)\n",
    "meteo = html2arrays(tt)\n",
    "len(meteo['time'])"
   ]
  },
  {
   "cell_type": "code",
   "execution_count": 135,
   "metadata": {},
   "outputs": [],
   "source": [
    "index = (meteo['time'] - meteo['time'][0])/600000 \n",
    "index = index.astype(np.int32)"
   ]
  },
  {
   "cell_type": "code",
   "execution_count": 136,
   "metadata": {},
   "outputs": [],
   "source": []
  },
  {
   "cell_type": "code",
   "execution_count": 139,
   "metadata": {},
   "outputs": [
    {
     "data": {
      "text/plain": [
       "9"
      ]
     },
     "execution_count": 139,
     "metadata": {},
     "output_type": "execute_result"
    }
   ],
   "source": [
    "uu = np.diff(index)\n",
    "sum( uu[uu > min(uu)] - min(uu) )"
   ]
  },
  {
   "cell_type": "code",
   "execution_count": 128,
   "metadata": {},
   "outputs": [
    {
     "data": {
      "text/plain": [
       "31"
      ]
     },
     "execution_count": 128,
     "metadata": {},
     "output_type": "execute_result"
    }
   ],
   "source": [
    "4464 // 24 //6"
   ]
  },
  {
   "cell_type": "code",
   "execution_count": 188,
   "metadata": {},
   "outputs": [
    {
     "name": "stdout",
     "output_type": "stream",
     "text": [
      "[master e64405b] web\n",
      " 2 files changed, 18 insertions(+), 18 deletions(-)\n",
      "Enumerating objects: 7, done.\n",
      "Counting objects: 100% (7/7), done.\n",
      "Delta compression using up to 4 threads\n",
      "Compressing objects: 100% (4/4), done.\n",
      "Writing objects: 100% (4/4), 484 bytes | 121.00 KiB/s, done.\n",
      "Total 4 (delta 2), reused 0 (delta 0)\n",
      "remote: Resolving deltas: 100% (2/2), completed with 2 local objects.\u001b[K\n",
      "To https://github.com/macbuse/ROMMA.git\n",
      "   a388f89..e64405b  master -> master\n"
     ]
    }
   ],
   "source": [
    "! ./.g"
   ]
  },
  {
   "cell_type": "code",
   "execution_count": 187,
   "metadata": {},
   "outputs": [
    {
     "name": "stdout",
     "output_type": "stream",
     "text": [
      "/home/gregmcshane/ROMMA\n"
     ]
    }
   ],
   "source": [
    "!pwd\n"
   ]
  },
  {
   "cell_type": "code",
   "execution_count": null,
   "metadata": {},
   "outputs": [],
   "source": []
  }
 ],
 "metadata": {
  "kernelspec": {
   "display_name": "Python 3 (ipykernel)",
   "language": "python",
   "name": "python3"
  },
  "language_info": {
   "codemirror_mode": {
    "name": "ipython",
    "version": 3
   },
   "file_extension": ".py",
   "mimetype": "text/x-python",
   "name": "python",
   "nbconvert_exporter": "python",
   "pygments_lexer": "ipython3",
   "version": "3.9.12"
  },
  "widgets": {
   "application/vnd.jupyter.widget-state+json": {
    "state": {},
    "version_major": 2,
    "version_minor": 0
   }
  }
 },
 "nbformat": 4,
 "nbformat_minor": 4
}
