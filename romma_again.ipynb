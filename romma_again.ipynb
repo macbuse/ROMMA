{
 "cells": [
  {
   "cell_type": "markdown",
   "metadata": {},
   "source": [
    "# ROMMA Scraping again\n",
    "\n",
    "Almost everyone knows that you can get time series by scraping pages.\n",
    "\n",
    "\n",
    "https://www.infoclimat.fr/climatologie/normales-records/1981-2010/grenoble-lvd/valeurs/38538002.html\n",
    "\n",
    "http://romma.fr/station_24.php?id=4&tempe=1"
   ]
  },
  {
   "cell_type": "code",
   "execution_count": 1,
   "metadata": {},
   "outputs": [],
   "source": [
    "import matplotlib.pyplot as plt\n",
    "import numpy as np \n",
    "import re\n",
    "import time\n",
    "import requests\n",
    "import html\n"
   ]
  },
  {
   "cell_type": "code",
   "execution_count": 2,
   "metadata": {},
   "outputs": [],
   "source": [
    "pp = re.compile('station_24\\.php\\?id=(\\d+)\"><b>(.*?),')\n",
    "user_agent = {'User-agent': 'Mozilla/5.0'}\n",
    "\n",
    "url = 'http://romma.fr/frame_station24.php'\n",
    "\n",
    "r = requests.get('http://romma.fr', \n",
    "                 headers=user_agent)\n",
    "\n",
    "stations = pp.findall(r.text)"
   ]
  },
  {
   "cell_type": "code",
   "execution_count": 3,
   "metadata": {},
   "outputs": [],
   "source": [
    "code, name = zip(*stations)"
   ]
  },
  {
   "cell_type": "code",
   "execution_count": 109,
   "metadata": {},
   "outputs": [],
   "source": [
    "#stations[:]"
   ]
  },
  {
   "cell_type": "code",
   "execution_count": 4,
   "metadata": {},
   "outputs": [
    {
     "name": "stdout",
     "output_type": "stream",
     "text": [
      "  BREGNIER-CORDON   VIRIAT   PONT-D'AIN   ST-ÉTIENNE-DU-BOIS   BOURG-EN-BRESSE   AMBÉRIEU-EN-BUGEY   SEYSSEL   BRIORD   LEAZ   LHOPITAL   INNIMOND   LELEX   LA VATTAY   SORGIA   MONTOISEY   SISTERON   DIGNE-LES-BAINS   ANNOT   CHAMPTERCIER   LA JAVIE   PRADS-HT-BLEONE   SELONNET   LE VERNET   SEYNE - LE GRAND PUY   SEYNE - LE FAUT   CHABANON   ST-PAUL-SUR-UBAYE   HAUT-CHABANON   GAP   LA BEAUME   EYGLIERS   LA FREISSINOUSE   ST-LEGER-LES-MELEZES   ORCIÈRES-CHAUFFAREL   ORCIÈRES-LES TOURRENGS   LES ORRES   PUY-SAINT-PIERRE   ORCIÈRES   RISTOLAS   SAINT-VÉRAN   COL DU LAUTARET   REFUGE CHAMOISSIERE   PLATEAU DE BURE   GILETTE   NICE   VENCE   TOURRETTE-LEVENS   CLANS   ST-VALLIER-DE-THIEY   CIPIÈRES   ILONSE   THORRENC   GRAVESON   MONTELIMAR   BOURG-LES-VALENCE   GRANGES-LES-BEAUMONT   AOUSTE-SUR-SYE   MONTBRISON-SUR-LEZ   CREST   ST-SORLIN-EN-VALLOIRE   DIE   LE PÈGUE   PEYRUS   RECOUBEAU   ST-JULIEN-EN-QUINT   TESSIÈRRES   ST-AGNAN-EN-VERCORS   VALOUSE   POMMEROL   BOULC   COMBE DE L'OSCENCE   LA CHAPELLE-EN-VERCORS   LE VERSOUD   ST-MARTIN-D'HÈRES   BOUVESSE-QUIRIEU   LUZINAY   L'ISLE-D'ABEAU   NOYAREY   TREPT   ST-VÉRAND   VIZILLE   VOIRON   FARAMANS   ST-BLAISE-DU-BUIS   ST-JOSEPH-DE-RIVIERE   ST-LAURENT-DU-PONT   BEAUCROISSANT   ST-CHRISTOPHE-SUR-G.   CHELIEU   SECHILIENNE   BRION   PINSOT   MIRIBEL-LES-ÉCHELLES   THEYS   ST-PIERRE-DE-CHARTREUSE   ENGINS   CHOLONGE   LES ADRETS   LE SAPPEY-EN-CHARTREUSE   LA FERRIÈRE   LANS-EN-VERCORS   MALLEVAL-EN-VERCORS   LA RUCHÈRE   LA SALETTE-FALLAVAUX   GRESSE-EN-VERCORS   LANS-LES ALLIERES   GRESSE-EN-V./GERLAND   VILLARD-REYMOND   CHAMROUSSE   CHICHILIANNE   HUEZ   LES SEPT-LAUX   CROIX-DE-CHAMROUSSE   CHAMBON   BÉRARDE   LES MOLUNES   LYON   AIX-LES-BAINS   CHINDRIEUX   CHALLES-LES-EAUX   ARITH   MEYRIEU-TROUET   CURIENNE   LA MOTTE-EN-BAUGES   ST-NICOLAS-LA-CHAPELLE   COL DU CLERGEON   LES DÉSERTS   JARRIER   GRANIER   MONTVALEZAN   OBS. ASTRO. DES BAUGES   JARRIER   STE-FOY-TARENTAISE   BESSANS   LA GIETTAZ   VAL-D'ISÈRE   LA ROSIÈRE   LA LÉCHÈRE   VAL-D'ARLY   LAC DU LOU   VAL-THORENS   PRALOGNAN-LA-VANOISE   BONNEVAL-SUR-ARC   TIGNES   GLACIER-GD-PISAILLAS   VALLIERES   RUMILLY   SCIEZ-SUR-LÉMAN   SCIEZ-SUR-LÉMAN   FRANGY   COPPONEX   MARIGNIER   CREMPIGNY   BONNEGUETE   ARCHAMPS   TANINGES   DROISY   SEYTHENEX   ANDILLY   VILLY-LE-BOUVERET   AVIERNOZ   LA ROCHE-SUR-FORON   PASSY   VERCHAIX   LE SAPPEY   THYEZ - SUR LE COUX   MORZINE   CHAMONIX   LA CHAPELLE-D'A.   ST SIXT - ORANGE   ARACHES-LA-FRASSE   CRETS-DU-SALEVE   POINTE-D'HIRMENTAZ   MONT LACHENS   ORANGE   BOLLÈNE   ISLE SUR LA SORGUE   ST-SATURNIN-LES-AVIGNON   PERTUIS   VALRÉAS   ENTRECHAUX   VISAN   GRAMBOIS   SAINT-CHRISTOL   LAGARDE-D'APT   MONT-SEREIN   MONT-VENTOUX   BOUVERET   VERSOIX   ST-TRIPHON   SAXON   LEYSIN   GRIMENTZ   AROLLA   VERBIER   BUTTIGLIERA-ALTA   SAUZE-D'OULX   OSTANA   PETIT-SAINT-BERNARD\n"
     ]
    }
   ],
   "source": [
    "print(' '.join( [html.unescape(x) for x in name]) )"
   ]
  },
  {
   "cell_type": "markdown",
   "metadata": {},
   "source": [
    "## Extracting the data arrays\n",
    "\n",
    "The good stuff is hiden in a frame but is easily accesible"
   ]
  },
  {
   "cell_type": "code",
   "execution_count": 10,
   "metadata": {},
   "outputs": [],
   "source": [
    "def html2arrays(txt):\n",
    "    def val2float(x):\n",
    "        if x == '':\n",
    "            return float('nan')\n",
    "        return float(x)\n",
    "\n",
    "    #I was dumping this from chrome and it  imposes fixed line widths\n",
    "    #txt = re.sub('=\\n','',txt)\n",
    "\n",
    "    #json style null->nan\n",
    "    #because we are going to cast string to float later\n",
    "    txt = re.sub('null', 'nan', txt)\n",
    "\n",
    "    pp = re.compile( 'var ([\\w|\\s]*?)array=.*?\\[(.*?)\\]', re.DOTALL)\n",
    "    mm = pp.findall(txt)\n",
    "\n",
    "    data = dict(mm)\n",
    "    data.keys()\n",
    "\n",
    "    fields = ['time', 'temp', 'pluie', 'intenspluie', \n",
    "              'pression', 'hum', 'rad','rafale','vent','ventdir']\n",
    "    arrays = {}\n",
    "    for key in fields:\n",
    "       \n",
    "        try:\n",
    "            arrays[key] = np.array( [ val2float(x) for x in data[key].split(',')])\n",
    "        except:\n",
    "            print(key)\n",
    "            \n",
    "        #continue\n",
    "        \n",
    "        #this fixes holes in the time series\n",
    "        if key == 'time':\n",
    "            index = (arrays[key] - arrays[key][0])/600000 \n",
    "            index = index.astype(np.int32)\n",
    "            index[index > 4463] = 4463 # just to be safe\n",
    "   \n",
    "        else:\n",
    "            fix = np.zeros(4464)\n",
    "            fix[index] = arrays[key]\n",
    "            arrays[key] = fix\n",
    "            \n",
    "    return arrays\n",
    "        \n",
    "def get_station(ref_num=6):       \n",
    "    url = 'http://romma.fr/frame_station24.php' # why is this hard coded ?\n",
    "    user_agent = {'User-agent': 'Mozilla/5.0'}\n",
    "    \n",
    "    r = requests.post(url, \n",
    "                     headers=user_agent,\n",
    "                     params={\"id_station\":ref_num, \"tempe\":1})\n",
    "    \n",
    "    return r.text\n",
    "\n",
    "smh = 4\n",
    "voiron = 109\n",
    "orange = 54\n",
    "data = {}\n",
    "for k in [5,6,109,44,4]:  \n",
    "    tt = get_station(ref_num=k)\n",
    "    meteo = html2arrays(tt)\n",
    "    data[k] = meteo\n"
   ]
  },
  {
   "cell_type": "code",
   "execution_count": 11,
   "metadata": {},
   "outputs": [],
   "source": [
    "import pickle\n",
    "# use pickle and not json as we have np.array\n",
    "fn = '20July.pkl'\n",
    "with open(fn,'wb') as fp:\n",
    "    pickle.dump(data,fp)"
   ]
  },
  {
   "cell_type": "code",
   "execution_count": 12,
   "metadata": {},
   "outputs": [
    {
     "data": {
      "text/plain": [
       "[<matplotlib.lines.Line2D at 0x7f565cd06198>]"
      ]
     },
     "execution_count": 12,
     "metadata": {},
     "output_type": "execute_result"
    },
    {
     "data": {
      "image/png": "[encoded data removed]",
      "text/plain": [
       "<Figure size 432x288 with 1 Axes>"
      ]
     },
     "metadata": {
      "needs_background": "light"
     },
     "output_type": "display_data"
    }
   ],
   "source": [
    "ww = 28*24*6\n",
    "plt.plot(meteo['time'][-ww:], meteo['ventdir'][-ww:],'r')\n",
    "plt.plot( meteo['time'][-ww:], meteo['vent'][-ww:]*20,'g')"
   ]
  },
  {
   "cell_type": "code",
   "execution_count": 5,
   "metadata": {},
   "outputs": [
    {
     "data": {
      "text/plain": [
       "[<matplotlib.lines.Line2D at 0x7ed328b81940>]"
      ]
     },
     "execution_count": 5,
     "metadata": {},
     "output_type": "execute_result"
    },
    {
     "data": {
      "image/png": "[encoded data removed]",
      "text/plain": [
       "<Figure size 432x288 with 1 Axes>"
      ]
     },
     "metadata": {},
     "output_type": "display_data"
    }
   ],
   "source": [
    "ww = 7*24*6\n",
    "plt.plot(meteo['time'][-ww:], meteo['rafale'][-ww:],'r')\n",
    "#plt.plot(tt[-ww:],np.diff(temp,n=1)[-ww:],'b')\n",
    "plt.plot( meteo['time'][-ww:], meteo['vent'][-ww:],'g')\n",
    "\n",
    "    "
   ]
  },
  {
   "cell_type": "code",
   "execution_count": 9,
   "metadata": {},
   "outputs": [
    {
     "data": {
      "text/plain": [
       "{'time': array([1.5925464e+12, 1.5925470e+12, 1.5925476e+12, ..., 1.5952230e+12,\n",
       "        1.5952236e+12, 1.5952242e+12]),\n",
       " 'temp': array([11.9, 12.2, 12.2, ..., 18.9, 19.7, 20.4]),\n",
       " 'pluie': array([0., 0., 0., ..., 0., 0., 0.]),\n",
       " 'intenspluie': array([nan, nan, nan, ..., nan, nan, nan]),\n",
       " 'pression': array([1017.8, 1017.9, 1018. , ..., 1015.3, 1015.3, 1015.4]),\n",
       " 'hum': array([95., 95., 94., ..., 60., 57., 57.]),\n",
       " 'rad': array([nan, nan, nan, ..., nan, nan, nan]),\n",
       " 'rafale': array([4.8, 3.2, 3.2, ..., 0. , 0. , 0. ]),\n",
       " 'vent': array([0., 0., 0., ..., 0., 0., 0.]),\n",
       " 'ventdir': array([ 67.5,  67.5,  67.5, ..., 270. , 270. , 270. ])}"
      ]
     },
     "execution_count": 9,
     "metadata": {},
     "output_type": "execute_result"
    }
   ],
   "source": []
  },
  {
   "cell_type": "code",
   "execution_count": 13,
   "metadata": {},
   "outputs": [
    {
     "data": {
      "text/plain": [
       "[<matplotlib.lines.Line2D at 0x7f565cc8f5f8>]"
      ]
     },
     "execution_count": 13,
     "metadata": {},
     "output_type": "execute_result"
    },
    {
     "data": {
      "image/png": "[encoded data removed]",
      "text/plain": [
       "<Figure size 432x288 with 1 Axes>"
      ]
     },
     "metadata": {
      "needs_background": "light"
     },
     "output_type": "display_data"
    }
   ],
   "source": [
    "def hour(x):\n",
    "    tt = time.localtime(x/1000)\n",
    "    return tt.tm_hour + tt.tm_min/60\n",
    "    \n",
    "day = 24*6\n",
    "\n",
    "def tot(key='rad'):\n",
    "    day = 24*6\n",
    "    tot = np.zeros((day), dtype=np.float32)\n",
    "    for k in range(31):\n",
    "        tot += np.roll(meteo[key], k*day)[:day]\n",
    "    return tot\n",
    "\n",
    "    \n",
    "# this is a bit risky it assumes there isn't a hole in the data\n",
    "times = np.array([hour(x) for x in meteo['time'][:day]])\n",
    "times = np.roll(times, 6)\n",
    "\n",
    "#plt.plot( times, tot(key='vent'),'b.')\n",
    "plt.plot( times ,tot(key='rad')/50,'rx')\n",
    "plt.plot( times ,tot(key='temp')/2,'k.')\n",
    "plt.plot( times ,tot(key='hum')/28,'g.')"
   ]
  },
  {
   "cell_type": "code",
   "execution_count": 163,
   "metadata": {},
   "outputs": [],
   "source": [
    "times = np.arange(144)/6\n"
   ]
  },
  {
   "cell_type": "markdown",
   "metadata": {},
   "source": [
    "# There must be a better way\n",
    "\n",
    "the function tot() kind of sucks  \n",
    "- it's not very **numpy**.\n",
    "\n",
    "what we really need is to \n",
    "\n",
    "1. reshape so that a row represents a day \n",
    "1. sum over the columns to get the average."
   ]
  },
  {
   "cell_type": "code",
   "execution_count": 21,
   "metadata": {},
   "outputs": [
    {
     "data": {
      "text/plain": [
       "(array([[ 0,  1,  2,  3],\n",
       "        [ 4,  5,  6,  7],\n",
       "        [ 8,  9, 10, 11]]), array([12, 15, 18, 21]))"
      ]
     },
     "execution_count": 21,
     "metadata": {},
     "output_type": "execute_result"
    }
   ],
   "source": [
    "np.arange(12).reshape(3,4), np.sum(np.arange(12).reshape(3,4), axis=0)"
   ]
  },
  {
   "cell_type": "code",
   "execution_count": 23,
   "metadata": {},
   "outputs": [
    {
     "name": "stderr",
     "output_type": "stream",
     "text": [
      "/home/gregmcshane/anaconda3/lib/python3.6/site-packages/ipykernel_launcher.py:8: RuntimeWarning: invalid value encountered in greater\n",
      "  \n"
     ]
    },
    {
     "data": {
      "image/png": "[encoded data removed]",
      "text/plain": [
       "<Figure size 432x288 with 1 Axes>"
      ]
     },
     "metadata": {
      "needs_background": "light"
     },
     "output_type": "display_data"
    }
   ],
   "source": [
    "npts = 4464\n",
    "ndays = npts//24//6\n",
    "\n",
    "cols = [ x for x in 'rgbky']\n",
    "\n",
    "for k in [4,5,6,109,44]:\n",
    "    mm = data[k]['hum'].reshape(ndays, 24*6)/ndays\n",
    "    mm[mm>1000] = 0\n",
    "    plt.plot(times, np.sum(mm, axis=0), cols.pop(0) + '.')"
   ]
  },
  {
   "cell_type": "markdown",
   "metadata": {},
   "source": [
    "## Let's show them all in a multiplot"
   ]
  },
  {
   "cell_type": "code",
   "execution_count": 18,
   "metadata": {},
   "outputs": [
    {
     "name": "stderr",
     "output_type": "stream",
     "text": [
      "/home/gregmcshane/anaconda3/lib/python3.6/site-packages/ipykernel_launcher.py:11: RuntimeWarning: invalid value encountered in greater\n",
      "  # This is added back by InteractiveShellApp.init_path()\n"
     ]
    },
    {
     "data": {
      "image/png": "[encoded data removed]",
      "text/plain": [
       "<Figure size 576x576 with 4 Axes>"
      ]
     },
     "metadata": {
      "needs_background": "light"
     },
     "output_type": "display_data"
    }
   ],
   "source": [
    "fig, axs = plt.subplots(2,2)\n",
    "#[axi.set_axis_off() for axi in axs.ravel()]\n",
    "fig.set_size_inches(8,8)\n",
    "\n",
    "meteo = data[109]\n",
    "npts = meteo['vent'].shape[0]\n",
    "ndays = npts//24//6\n",
    "\n",
    "for k, tag in enumerate(['rafale','temp','hum','rad']):\n",
    "    mm = meteo[tag].reshape(ndays, 24*6)/ndays\n",
    "    mm[mm > 1000] = 0 #kill the outlier\n",
    "\n",
    "    axs[k % 2 , k // 2].plot(times, np.sum(mm, axis=0),'r.')\n",
    "    axs[k % 2 , k // 2].set_title(tag)\n",
    "    "
   ]
  },
  {
   "cell_type": "markdown",
   "metadata": {},
   "source": [
    "## Humidity and temerature\n",
    "\n",
    "they seem to be correlated so let's do a linear regression to see if that is actually the case.\n",
    "\n",
    "There might be **nan**s in the arrays so mask them out before doing the regression."
   ]
  },
  {
   "cell_type": "code",
   "execution_count": 20,
   "metadata": {},
   "outputs": [],
   "source": [
    "from scipy import stats\n",
    "\n",
    "cors = {}\n",
    "for k in [4,5,6,109]:\n",
    "    x = data[k]\n",
    "    X = np.sum( x['temp'].reshape(ndays, 24*6)/ndays, axis=0)\n",
    "    Y = np.sum( x['hum'].reshape(ndays, 24*6)/ndays, axis=0)\n",
    "\n",
    "    mask = ~(np.isnan(X) | np.isnan(Y))\n",
    "    cors[k] = stats.linregress( X[mask], Y[mask])"
   ]
  },
  {
   "cell_type": "code",
   "execution_count": 21,
   "metadata": {},
   "outputs": [
    {
     "data": {
      "text/plain": [
       "{4: LinregressResult(slope=-3.0442320055130763, intercept=131.44271926967355, rvalue=-0.996712004587037, pvalue=7.095002389010271e-157, stderr=0.020767642656120577),\n",
       " 5: LinregressResult(slope=-3.024257789819958, intercept=134.23652215933927, rvalue=-0.990900383632987, pvalue=1.419388307462446e-125, stderr=0.034473148164522655),\n",
       " 6: LinregressResult(slope=-3.416055787997348, intercept=139.65464152388748, rvalue=-0.9973515284505515, pvalue=1.5527591350489838e-163, stderr=0.020905349566288124),\n",
       " 109: LinregressResult(slope=-2.657177489510032, intercept=119.62010848711506, rvalue=-0.9683137298763871, pvalue=3.086470848040459e-86, stderr=0.05791928314013234)}"
      ]
     },
     "execution_count": 21,
     "metadata": {},
     "output_type": "execute_result"
    }
   ],
   "source": [
    "cors"
   ]
  },
  {
   "cell_type": "markdown",
   "metadata": {},
   "source": [
    "### Retiming\n",
    "\n",
    "I have to plot the data against time otherwise it's offset\n",
    "so that midnight is no longer at zero."
   ]
  },
  {
   "cell_type": "code",
   "execution_count": 22,
   "metadata": {},
   "outputs": [
    {
     "data": {
      "text/plain": [
       "[<matplotlib.lines.Line2D at 0x7f5653ada9e8>]"
      ]
     },
     "execution_count": 22,
     "metadata": {},
     "output_type": "execute_result"
    },
    {
     "data": {
      "image/png": "[encoded data removed]",
      "text/plain": [
       "<Figure size 432x288 with 1 Axes>"
      ]
     },
     "metadata": {
      "needs_background": "light"
     },
     "output_type": "display_data"
    }
   ],
   "source": [
    "k = 109\n",
    "\n",
    "vv = cors[k]\n",
    "a, b = vv.slope, vv.intercept\n",
    "\n",
    "x = data[k]\n",
    "X = np.sum( x['temp'].reshape(ndays, 24*6)/ndays, axis=0)\n",
    "Y = np.sum( x['hum'].reshape(ndays, 24*6)/ndays, axis=0)\n",
    "\n",
    "plt.plot(times,Y,'r.')\n",
    "#plt.plot(times,X,'g.')\n",
    "plt.plot(times, a*X + b, 'b.')"
   ]
  },
  {
   "cell_type": "markdown",
   "metadata": {},
   "source": [
    "## Finally calculate the time of max temperature\n",
    "\n",
    "I checked this by hand it seems to be pretty accurate"
   ]
  },
  {
   "cell_type": "code",
   "execution_count": 171,
   "metadata": {},
   "outputs": [
    {
     "data": {
      "text/plain": [
       "['Sat Jul 18 18:20:00 2020',\n",
       " 'Fri Jul 17 15:10:00 2020',\n",
       " 'Thu Jul 16 19:00:00 2020',\n",
       " 'Wed Jul 15 13:10:00 2020',\n",
       " 'Tue Jul 14 17:10:00 2020',\n",
       " 'Mon Jul 13 16:20:00 2020',\n",
       " 'Sun Jul 12 17:30:00 2020',\n",
       " 'Sat Jul 11 17:20:00 2020',\n",
       " 'Fri Jul 10 17:00:00 2020',\n",
       " 'Thu Jul  9 17:20:00 2020',\n",
       " 'Wed Jul  8 17:20:00 2020',\n",
       " 'Tue Jul  7 18:30:00 2020',\n",
       " 'Mon Jul  6 16:50:00 2020',\n",
       " 'Sun Jul  5 18:30:00 2020',\n",
       " 'Sat Jul  4 18:30:00 2020',\n",
       " 'Fri Jul  3 17:10:00 2020',\n",
       " 'Thu Jul  2 17:20:00 2020',\n",
       " 'Wed Jul  1 15:50:00 2020',\n",
       " 'Tue Jun 30 18:40:00 2020',\n",
       " 'Mon Jun 29 14:20:00 2020']"
      ]
     },
     "execution_count": 171,
     "metadata": {},
     "output_type": "execute_result"
    }
   ],
   "source": [
    "numdays = 21\n",
    "ts = [i for i in range(-1,-1 - numdays*24*6, -24*6)]\n",
    "\n",
    "day_intervals = [list(zip(meteo['temp'],meteo['time']))[i:j] for i,j in  zip(ts[1:],ts)]\n",
    "mx = [max(day) for day in day_intervals if day]\n",
    "x,y = zip(*mx)\n",
    "[time.ctime(t/1000.) for t in y]"
   ]
  },
  {
   "cell_type": "code",
   "execution_count": 76,
   "metadata": {},
   "outputs": [
    {
     "data": {
      "text/plain": [
       "[<matplotlib.lines.Line2D at 0x7e94fd1f2cf8>]"
      ]
     },
     "execution_count": 76,
     "metadata": {},
     "output_type": "execute_result"
    },
    {
     "data": {
      "image/png": "[encoded data removed]",
      "text/plain": [
       "<Figure size 432x288 with 1 Axes>"
      ]
     },
     "metadata": {
      "needs_background": "light"
     },
     "output_type": "display_data"
    }
   ],
   "source": [
    "XS, YS = zip(*mx)\n",
    "YS = [(int(y)//1000 % (24*3600)) /3600 for y in YS]\n",
    "plt.plot(YS,XS, 'rx')"
   ]
  },
  {
   "cell_type": "code",
   "execution_count": 105,
   "metadata": {},
   "outputs": [
    {
     "ename": "NameError",
     "evalue": "name 'stuff' is not defined",
     "output_type": "error",
     "traceback": [
      "\u001b[0;31m---------------------------------------------------------------------------\u001b[0m",
      "\u001b[0;31mNameError\u001b[0m                                 Traceback (most recent call last)",
      "\u001b[0;32m<ipython-input-105-0970d14a673d>\u001b[0m in \u001b[0;36m<module>\u001b[0;34m()\u001b[0m\n\u001b[1;32m      1\u001b[0m \u001b[0mnight\u001b[0m \u001b[0;34m=\u001b[0m \u001b[0mmeteo\u001b[0m\u001b[0;34m[\u001b[0m\u001b[0;34m'time'\u001b[0m\u001b[0;34m]\u001b[0m\u001b[0;34m[\u001b[0m\u001b[0mmeteo\u001b[0m\u001b[0;34m[\u001b[0m\u001b[0;34m'rad'\u001b[0m\u001b[0;34m]\u001b[0m \u001b[0;34m==\u001b[0m \u001b[0;36m0\u001b[0m\u001b[0;34m]\u001b[0m\u001b[0;34m\u001b[0m\u001b[0m\n\u001b[0;32m----> 2\u001b[0;31m \u001b[0mxx\u001b[0m \u001b[0;34m=\u001b[0m \u001b[0mstuff\u001b[0m\u001b[0;34m[\u001b[0m\u001b[0;34m:\u001b[0m\u001b[0;34m-\u001b[0m\u001b[0;36m1\u001b[0m\u001b[0;34m]\u001b[0m\u001b[0;34m[\u001b[0m\u001b[0mnp\u001b[0m\u001b[0;34m.\u001b[0m\u001b[0mdiff\u001b[0m\u001b[0;34m(\u001b[0m\u001b[0mnight\u001b[0m\u001b[0;34m)\u001b[0m  \u001b[0;34m>\u001b[0m \u001b[0;36m600000\u001b[0m\u001b[0;34m]\u001b[0m\u001b[0;34m\u001b[0m\u001b[0m\n\u001b[0m",
      "\u001b[0;31mNameError\u001b[0m: name 'stuff' is not defined"
     ]
    }
   ],
   "source": [
    "night = meteo['time'][meteo['rad'] == 0]\n",
    "xx = stuff[:-1][np.diff(night)  > 600000]"
   ]
  },
  {
   "cell_type": "code",
   "execution_count": 228,
   "metadata": {},
   "outputs": [],
   "source": []
  },
  {
   "cell_type": "code",
   "execution_count": 15,
   "metadata": {},
   "outputs": [
    {
     "ename": "NameError",
     "evalue": "name 'xx' is not defined",
     "output_type": "error",
     "traceback": [
      "\u001b[0;31m---------------------------------------------------------------------------\u001b[0m",
      "\u001b[0;31mNameError\u001b[0m                                 Traceback (most recent call last)",
      "\u001b[0;32m<ipython-input-15-a8327154ca16>\u001b[0m in \u001b[0;36m<module>\u001b[0;34m()\u001b[0m\n\u001b[0;32m----> 1\u001b[0;31m \u001b[0mtrans\u001b[0m \u001b[0;34m=\u001b[0m \u001b[0;34m[\u001b[0m\u001b[0mint\u001b[0m\u001b[0;34m(\u001b[0m\u001b[0my\u001b[0m\u001b[0;34m)\u001b[0m\u001b[0;34m//\u001b[0m\u001b[0;36m1000\u001b[0m \u001b[0;34m%\u001b[0m \u001b[0;34m(\u001b[0m\u001b[0;36m24\u001b[0m\u001b[0;34m*\u001b[0m\u001b[0;36m3600\u001b[0m\u001b[0;34m)\u001b[0m \u001b[0;34m/\u001b[0m\u001b[0;36m3600\u001b[0m \u001b[0;32mfor\u001b[0m \u001b[0my\u001b[0m \u001b[0;32min\u001b[0m \u001b[0mxx\u001b[0m\u001b[0;34m]\u001b[0m\u001b[0;34m\u001b[0m\u001b[0m\n\u001b[0m\u001b[1;32m      2\u001b[0m \u001b[0mtrans\u001b[0m \u001b[0;34m=\u001b[0m \u001b[0;34m[\u001b[0m \u001b[0mmin\u001b[0m\u001b[0;34m(\u001b[0m\u001b[0mx\u001b[0m\u001b[0;34m,\u001b[0m\u001b[0;36m8\u001b[0m\u001b[0;34m)\u001b[0m \u001b[0;32mfor\u001b[0m \u001b[0mx\u001b[0m \u001b[0;32min\u001b[0m \u001b[0mtrans\u001b[0m \u001b[0;34m]\u001b[0m\u001b[0;34m\u001b[0m\u001b[0m\n\u001b[1;32m      3\u001b[0m \u001b[0;34m\u001b[0m\u001b[0m\n\u001b[1;32m      4\u001b[0m \u001b[0mplt\u001b[0m\u001b[0;34m.\u001b[0m\u001b[0mplot\u001b[0m\u001b[0;34m(\u001b[0m\u001b[0mrange\u001b[0m\u001b[0;34m(\u001b[0m\u001b[0mlen\u001b[0m\u001b[0;34m(\u001b[0m\u001b[0mtrans\u001b[0m\u001b[0;34m)\u001b[0m\u001b[0;34m)\u001b[0m\u001b[0;34m,\u001b[0m\u001b[0mtrans\u001b[0m\u001b[0;34m,\u001b[0m\u001b[0;34m'rx'\u001b[0m\u001b[0;34m)\u001b[0m\u001b[0;34m\u001b[0m\u001b[0m\n",
      "\u001b[0;31mNameError\u001b[0m: name 'xx' is not defined"
     ]
    }
   ],
   "source": [
    "trans = [int(y)//1000 % (24*3600) /3600 for y in xx]\n",
    "trans = [ min(x,8) for x in trans ]\n",
    "\n",
    "plt.plot(range(len(trans)),trans,'rx')"
   ]
  },
  {
   "cell_type": "code",
   "execution_count": 64,
   "metadata": {},
   "outputs": [
    {
     "name": "stdout",
     "output_type": "stream",
     "text": [
      "[master 6d7d020] web\n",
      " 1 file changed, 30 insertions(+), 48 deletions(-)\n",
      "Enumerating objects: 5, done.\n",
      "Counting objects: 100% (5/5), done.\n",
      "Delta compression using up to 4 threads\n",
      "Compressing objects: 100% (3/3), done.\n",
      "Writing objects: 100% (3/3), 11.51 KiB | 693.00 KiB/s, done.\n",
      "Total 3 (delta 2), reused 0 (delta 0)\n",
      "remote: Resolving deltas: 100% (2/2), completed with 2 local objects.\u001b[K\n",
      "To https://github.com/macbuse/ROMMA.git\n",
      "   357f3d4..6d7d020  master -> master\n"
     ]
    }
   ],
   "source": [
    "! ./.g\n"
   ]
  },
  {
   "cell_type": "code",
   "execution_count": 111,
   "metadata": {},
   "outputs": [
    {
     "data": {
      "text/plain": [
       "9"
      ]
     },
     "execution_count": 111,
     "metadata": {},
     "output_type": "execute_result"
    }
   ],
   "source": [
    "4464 - 4455"
   ]
  },
  {
   "cell_type": "code",
   "execution_count": 115,
   "metadata": {},
   "outputs": [
    {
     "data": {
      "text/plain": [
       "4455"
      ]
     },
     "execution_count": 115,
     "metadata": {},
     "output_type": "execute_result"
    }
   ],
   "source": [
    "tt = get_station(ref_num=109)\n",
    "meteo = html2arrays(tt)\n",
    "len(meteo['time'])"
   ]
  },
  {
   "cell_type": "code",
   "execution_count": 135,
   "metadata": {},
   "outputs": [],
   "source": [
    "index = (meteo['time'] - meteo['time'][0])/600000 \n",
    "index = index.astype(np.int32)"
   ]
  },
  {
   "cell_type": "code",
   "execution_count": 136,
   "metadata": {},
   "outputs": [],
   "source": []
  },
  {
   "cell_type": "code",
   "execution_count": 139,
   "metadata": {},
   "outputs": [
    {
     "data": {
      "text/plain": [
       "9"
      ]
     },
     "execution_count": 139,
     "metadata": {},
     "output_type": "execute_result"
    }
   ],
   "source": [
    "uu = np.diff(index)\n",
    "sum( uu[uu > min(uu)] - min(uu) )"
   ]
  },
  {
   "cell_type": "code",
   "execution_count": 128,
   "metadata": {},
   "outputs": [
    {
     "data": {
      "text/plain": [
       "31"
      ]
     },
     "execution_count": 128,
     "metadata": {},
     "output_type": "execute_result"
    }
   ],
   "source": [
    "4464 // 24 //6"
   ]
  },
  {
   "cell_type": "code",
   "execution_count": 142,
   "metadata": {},
   "outputs": [
    {
     "data": {
      "text/plain": [
       "[<matplotlib.lines.Line2D at 0x7e94fcea47f0>]"
      ]
     },
     "execution_count": 142,
     "metadata": {},
     "output_type": "execute_result"
    },
    {
     "data": {
      "image/png": "[encoded data removed]",
      "text/plain": [
       "<Figure size 432x288 with 1 Axes>"
      ]
     },
     "metadata": {
      "needs_background": "light"
     },
     "output_type": "display_data"
    }
   ],
   "source": [
    "fix = np.zeros(4464)\n",
    "fix[index] = meteo['vent']\n",
    "ndays = 31\n",
    "mm = fix.reshape(ndays, 24*6)/ndays\n",
    "plt.plot(times, np.sum(mm, axis=0), 'b.')"
   ]
  },
  {
   "cell_type": "code",
   "execution_count": null,
   "metadata": {},
   "outputs": [],
   "source": []
  }
 ],
 "metadata": {
  "kernelspec": {
   "display_name": "Python 3",
   "language": "python",
   "name": "python3"
  },
  "language_info": {
   "codemirror_mode": {
    "name": "ipython",
    "version": 3
   },
   "file_extension": ".py",
   "mimetype": "text/x-python",
   "name": "python",
   "nbconvert_exporter": "python",
   "pygments_lexer": "ipython3",
   "version": "3.6.5"
  }
 },
 "nbformat": 4,
 "nbformat_minor": 2
}
