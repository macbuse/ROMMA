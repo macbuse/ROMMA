{
 "cells": [
  {
   "cell_type": "markdown",
   "metadata": {},
   "source": [
    "# ROMMA Scraping again\n",
    "\n",
    "Almost everyone knows that you can get time series by scraping pages.\n",
    "\n",
    "\n",
    "https://www.infoclimat.fr/climatologie/normales-records/1981-2010/grenoble-lvd/valeurs/38538002.html\n",
    "\n",
    "http://romma.fr/station_24.php?id=4&tempe=1"
   ]
  },
  {
   "cell_type": "markdown",
   "metadata": {},
   "source": [
    "So I ended up doing averaging the data and doing some linear regression - \n",
    "all the variables:\n",
    "\n",
    "- temperature\n",
    "- humidity \n",
    "- solar radiation\n",
    "- windiness\n",
    "\n",
    "seem to be correlated.\n"
   ]
  },
  {
   "cell_type": "code",
   "execution_count": 1,
   "metadata": {},
   "outputs": [],
   "source": [
    "import matplotlib.pyplot as plt\n",
    "import numpy as np \n",
    "import re\n",
    "import time\n",
    "import requests\n",
    "import html"
   ]
  },
  {
   "cell_type": "code",
   "execution_count": 297,
   "metadata": {},
   "outputs": [],
   "source": [
    "pp = re.compile('station_24\\.php\\?id=(\\d+)\"><b>(.*?),(.*?)m')\n",
    "user_agent = {'User-agent': 'Mozilla/5.0'}\n",
    "\n",
    "url = 'http://romma.fr/frame_station24.php'\n",
    "\n",
    "r = requests.get('http://romma.fr', \n",
    "                 headers=user_agent)\n",
    "\n",
    "stations = pp.findall(r.text)"
   ]
  },
  {
   "cell_type": "code",
   "execution_count": 300,
   "metadata": {},
   "outputs": [],
   "source": [
    "code, name, alt = zip(*stations)\n",
    "alt = [int(x) for x in alt]"
   ]
  },
  {
   "cell_type": "code",
   "execution_count": 303,
   "metadata": {},
   "outputs": [
    {
     "data": {
      "text/plain": [
       "(array([ 6., 12., 21., 21., 11.,  8.,  7., 19., 11., 12.,  7.,  6., 10.,\n",
       "         6.,  3.,  6.,  5.,  4.,  5.,  5.,  3.,  2.,  1.,  3.,  1.,  1.,\n",
       "         0.,  1.,  0.,  1.]),\n",
       " array([  17. ,  120.4,  223.8,  327.2,  430.6,  534. ,  637.4,  740.8,\n",
       "         844.2,  947.6, 1051. , 1154.4, 1257.8, 1361.2, 1464.6, 1568. ,\n",
       "        1671.4, 1774.8, 1878.2, 1981.6, 2085. , 2188.4, 2291.8, 2395.2,\n",
       "        2498.6, 2602. , 2705.4, 2808.8, 2912.2, 3015.6, 3119. ]),\n",
       " <a list of 30 Patch objects>)"
      ]
     },
     "execution_count": 303,
     "metadata": {},
     "output_type": "execute_result"
    },
    {
     "data": {
      "image/png": "[encoded data removed]",
      "text/plain": [
       "<Figure size 432x288 with 1 Axes>"
      ]
     },
     "metadata": {
      "needs_background": "light"
     },
     "output_type": "display_data"
    }
   ],
   "source": [
    "plt.hist(alt, bins=30)"
   ]
  },
  {
   "cell_type": "code",
   "execution_count": 414,
   "metadata": {},
   "outputs": [
    {
     "data": {
      "text/plain": [
       "<Response [200]>"
      ]
     },
     "execution_count": 414,
     "metadata": {},
     "output_type": "execute_result"
    }
   ],
   "source": [
    "pr = re.compile('<tr>(.*?)</tr>', re.DOTALL)\n",
    "\n",
    "url = 'http://romma.fr/carte.php'\n",
    "\n",
    "#https://stackoverflow.com/questions/38489386/python-requests-403-forbidden\n",
    "user_agent = {'User-Agent': \"Mozilla/5.0 (X11; CrOS x86_64 13099.62.0) AppleWebKit/537.36 (KHTML, like Gecko) Chrome/84.0.4147.83 Safari/537.36\",\n",
    "             'Host': 'romma.fr'}\n",
    "\n",
    "params = {'dept' : 0, \n",
    "          'param': 'temperature',\n",
    "          'mobile' : 0,\n",
    "          'carteinterne': 0}\n",
    "    \n",
    "r = requests.get(url, \n",
    "                headers=user_agent,\n",
    "                params=params\n",
    ")\n",
    "   \n",
    "r\n",
    "    "
   ]
  },
  {
   "cell_type": "code",
   "execution_count": 415,
   "metadata": {},
   "outputs": [],
   "source": [
    "px = re.compile('overlib\\((.*?)CAPTION,(.*?)\\);',re.DOTALL)\n",
    "tt = re.compile(\"<td class=(.*?)>(.*?)</td>\")\n",
    "#tt = re.compile(r\"<td class=>\\'blanc\\'</td>\")\n",
    "\n",
    "xxx = []\n",
    "for k, ss in enumerate(px.findall(r.text)):\n",
    "    if k  % 2: continue\n",
    "    dd, sn = ss\n",
    "    xxx.append( sn + [ y for x, y in tt.findall(dd) if 'blanc' in x][0] )\n",
    "xxx = ' '.join(xxx)"
   ]
  },
  {
   "cell_type": "code",
   "execution_count": null,
   "metadata": {},
   "outputs": [],
   "source": []
  },
  {
   "cell_type": "code",
   "execution_count": 416,
   "metadata": {},
   "outputs": [
    {
     "data": {
      "text/plain": [
       "[<matplotlib.lines.Line2D at 0x7f56514e2630>]"
      ]
     },
     "execution_count": 416,
     "metadata": {},
     "output_type": "execute_result"
    },
    {
     "data": {
      "image/png": "[encoded data removed]",
      "text/plain": [
       "<Figure size 432x288 with 1 Axes>"
      ]
     },
     "metadata": {
      "needs_background": "light"
     },
     "output_type": "display_data"
    }
   ],
   "source": [
    "nps = re.compile('\\((\\d+).*?>(.*?)<')\n",
    "# drop anywhere that hasn't give a valid temperature\n",
    "valid_pairs = [x for x in nps.findall(xxx) if '--' not in x[1]]\n",
    "\n",
    "#cast strings to numbers\n",
    "A, T = list(zip(* valid_pairs ) )\n",
    "A = [int(x) for x in A]\n",
    "T = [float(x) for x in T]\n",
    "plt.plot(A,T,'r.') \n",
    "\n",
    "vv = stats.linregress(A,T)\n",
    "X = np.array([0,3000])\n",
    "plt.plot(X, vv.slope*X + vv.intercept)\n",
    "\n"
   ]
  },
  {
   "cell_type": "code",
   "execution_count": 417,
   "metadata": {},
   "outputs": [
    {
     "data": {
      "text/plain": [
       "-215.49875347090557"
      ]
     },
     "execution_count": 417,
     "metadata": {},
     "output_type": "execute_result"
    }
   ],
   "source": [
    "1/vv.slope"
   ]
  },
  {
   "cell_type": "code",
   "execution_count": 313,
   "metadata": {},
   "outputs": [
    {
     "data": {
      "text/plain": [
       "<Response [403]>"
      ]
     },
     "execution_count": 313,
     "metadata": {},
     "output_type": "execute_result"
    }
   ],
   "source": [
    "GET /carte.php?dept=0&param=temperature&mobile=0&carteinterne=0 HTTP/1.1\n",
    "Host: romma.fr\n",
    "Connection: keep-alive\n",
    "Cache-Control: max-age=0\n",
    "DNT: 1\n",
    "Upgrade-Insecure-Requests: 1\n",
    "User-Agent: Mozilla/5.0 (X11; CrOS x86_64 13099.62.0) AppleWebKit/537.36 (KHTML, like Gecko) Chrome/84.0.4147.83 Safari/537.36\n",
    "Accept: text/html,application/xhtml+xml,application/xml;q=0.9,image/webp,image/apng,*/*;q=0.8,application/signed-exchange;v=b3;q=0.9\n",
    "Accept-Encoding: gzip, deflate\n",
    "Accept-Language: en-IE,en;q=0.9,fr-FR;q=0.8,fr;q=0.7,zh-CN;q=0.6,zh;q=0.5,en-US;q=0.4,nl;q=0.3\n",
    "Cookie: rid=51Yg44; ui-tabs-1=1; paramtab=0\n"
   ]
  },
  {
   "cell_type": "code",
   "execution_count": null,
   "metadata": {},
   "outputs": [],
   "source": []
  },
  {
   "cell_type": "markdown",
   "metadata": {},
   "source": [
    "http://romma.fr/carte.php?dept=0&param=temperature&mobile=0&carteinterne=0\n",
    "\n",
    "/html/body/div[2]/div[171]\n",
    "\n",
    "#carte > div:nth-child(321)\n",
    "\n",
    "document.querySelector(\"#carte > div:nth-child(321)\")\n",
    "document.querySelector(\"#carte > div:nth-child(46)\")\n",
    "\n",
    "document.querySelector(\"#carte > div:nth-child(213)\")\n"
   ]
  },
  {
   "cell_type": "markdown",
   "metadata": {},
   "source": [
    "## Extracting the data arrays\n",
    "\n",
    "The good stuff is hiden in a frame but is easily accesible"
   ]
  },
  {
   "cell_type": "code",
   "execution_count": 158,
   "metadata": {},
   "outputs": [],
   "source": [
    "def html2arrays(txt):\n",
    "    def val2float(x):\n",
    "        if x == '':\n",
    "            return float('nan')\n",
    "        return float(x)\n",
    "\n",
    "    #I was dumping this from chrome and it  imposes fixed line widths\n",
    "    #txt = re.sub('=\\n','',txt)\n",
    "\n",
    "    #json style null->nan\n",
    "    #because we are going to cast string to float later\n",
    "    txt = re.sub('null', 'nan', txt)\n",
    "\n",
    "    pp = re.compile( 'var ([\\w|\\s]*?)array=.*?\\[(.*?)\\]', re.DOTALL)\n",
    "    mm = pp.findall(txt)\n",
    "\n",
    "    data = dict(mm)\n",
    "    data.keys()\n",
    "\n",
    "    fields = ['time', 'temp', 'pluie', 'intenspluie', \n",
    "              'pression', 'hum', 'rad','rafale','vent','ventdir']\n",
    "    arrays = {}\n",
    "    for key in fields:\n",
    "       \n",
    "        try:\n",
    "            arrays[key] = np.array( [ val2float(x) for x in data[key].split(',')])\n",
    "        except:\n",
    "            print(key)\n",
    "            \n",
    "        #continue\n",
    "        \n",
    "        #this fixes holes in the time series\n",
    "        if key == 'time':\n",
    "            index = (arrays[key] - arrays[key][0])/600000 \n",
    "            index = index.astype(np.int32)\n",
    "            index[index > 4463] = 4463 # just to be safe\n",
    "   \n",
    "        else:\n",
    "            fix = np.zeros(4464)\n",
    "            fix[index] = arrays[key]\n",
    "            arrays[key] = fix\n",
    "            \n",
    "    return arrays\n",
    "        \n",
    "def get_station(ref_num=6):       \n",
    "    url = 'http://romma.fr/frame_station24.php' # why is this hard coded ?\n",
    "    user_agent = {'User-agent': 'Mozilla/5.0'}\n",
    "    \n",
    "    r = requests.post(url, \n",
    "                     headers=user_agent,\n",
    "                     params={\"id_station\":ref_num, \"tempe\":1})\n",
    "    \n",
    "    return r.text\n",
    "\n",
    "smh = 4\n",
    "voiron = 109\n",
    "orange = 54\n",
    "data = {}\n",
    "for k in [3,5,109,44,4,6]: \n",
    "    tt = get_station(ref_num=k)\n",
    "    meteo = html2arrays(tt)\n",
    "    data[k] = meteo\n"
   ]
  },
  {
   "cell_type": "markdown",
   "metadata": {},
   "source": [
    "Vizille = 5 seemed to be out of sync with the other sites"
   ]
  },
  {
   "cell_type": "code",
   "execution_count": 214,
   "metadata": {},
   "outputs": [
    {
     "name": "stdout",
     "output_type": "stream",
     "text": [
      "1592629200000.0\n",
      "1592629200000.0\n",
      "1592629200000.0\n",
      "1592629200000.0\n",
      "1592629200000.0\n",
      "1592629200000.0\n"
     ]
    }
   ],
   "source": [
    "for k in [3,5,109,44,4,6]: \n",
    "    print(data[k]['time'][0])"
   ]
  },
  {
   "cell_type": "code",
   "execution_count": 155,
   "metadata": {},
   "outputs": [
    {
     "data": {
      "text/plain": [
       "120.0"
      ]
     },
     "execution_count": 155,
     "metadata": {},
     "output_type": "execute_result"
    }
   ],
   "source": [
    "(1592553600000.0 - 1592546400000.0) / 60000"
   ]
  },
  {
   "cell_type": "code",
   "execution_count": 215,
   "metadata": {},
   "outputs": [],
   "source": [
    "import pickle\n",
    "\n",
    "def hour(x):\n",
    "    tt = time.localtime(x/1000)\n",
    "    return tt.tm_hour + tt.tm_min/60\n",
    "    \n",
    "day = 24*6\n",
    "\n",
    "# this is a bit risky it assumes there isn't a hole in the data\n",
    "times = np.array([hour(x) for x in data[4]['time'][:day]])\n",
    "\n",
    "\n",
    "# use pickle and not json as we have np.array\n",
    "fn = '21July.pkl'\n",
    "data['times'] = times\n",
    "with open(fn,'wb') as fp:\n",
    "    pickle.dump(data,fp)"
   ]
  },
  {
   "cell_type": "code",
   "execution_count": 181,
   "metadata": {},
   "outputs": [
    {
     "data": {
      "text/plain": [
       "[<matplotlib.lines.Line2D at 0x7f56533a1cc0>]"
      ]
     },
     "execution_count": 181,
     "metadata": {},
     "output_type": "execute_result"
    },
    {
     "data": {
      "image/png": "[encoded data removed]",
      "text/plain": [
       "<Figure size 432x288 with 1 Axes>"
      ]
     },
     "metadata": {
      "needs_background": "light"
     },
     "output_type": "display_data"
    }
   ],
   "source": [
    "meteo = data[4]\n",
    "\n",
    "\n",
    "ww = 28*24*6\n",
    "plt.plot(meteo['time'][-ww:], meteo['ventdir'][-ww:],'r')\n",
    "plt.plot( meteo['time'][-ww:], meteo['vent'][-ww:]*20,'g')"
   ]
  },
  {
   "cell_type": "code",
   "execution_count": 163,
   "metadata": {},
   "outputs": [
    {
     "data": {
      "text/plain": [
       "[<matplotlib.lines.Line2D at 0x7f565359fef0>]"
      ]
     },
     "execution_count": 163,
     "metadata": {},
     "output_type": "execute_result"
    },
    {
     "data": {
      "image/png": "[encoded data removed]",
      "text/plain": [
       "<Figure size 432x288 with 1 Axes>"
      ]
     },
     "metadata": {
      "needs_background": "light"
     },
     "output_type": "display_data"
    }
   ],
   "source": [
    "ww = 7*24*6\n",
    "plt.plot(meteo['time'][-ww:], meteo['rafale'][-ww:],'r')\n",
    "#plt.plot(tt[-ww:],np.diff(temp,n=1)[-ww:],'b')\n",
    "plt.plot( meteo['time'][-ww:], meteo['vent'][-ww:],'g')\n",
    "\n",
    "    "
   ]
  },
  {
   "cell_type": "code",
   "execution_count": null,
   "metadata": {},
   "outputs": [],
   "source": []
  },
  {
   "cell_type": "code",
   "execution_count": 164,
   "metadata": {},
   "outputs": [
    {
     "data": {
      "text/plain": [
       "[<matplotlib.lines.Line2D at 0x7f5653465550>]"
      ]
     },
     "execution_count": 164,
     "metadata": {},
     "output_type": "execute_result"
    },
    {
     "data": {
      "image/png": "[encoded data removed]",
      "text/plain": [
       "<Figure size 432x288 with 1 Axes>"
      ]
     },
     "metadata": {
      "needs_background": "light"
     },
     "output_type": "display_data"
    }
   ],
   "source": [
    "\n",
    "def tot(key='rad'):\n",
    "    day = 24*6\n",
    "    tot = np.zeros((day), dtype=np.float32)\n",
    "    for k in range(31):\n",
    "        tot += np.roll(meteo[key], k*day)[:day]\n",
    "    return tot\n",
    "\n",
    "    \n",
    "# this is a bit risky it assumes there isn't a hole in the data\n",
    "times = np.array([hour(x) for x in meteo['time'][:day]])\n",
    "\n",
    "\n",
    "#plt.plot( times, tot(key='vent'),'b.')\n",
    "plt.plot( times ,tot(key='rad')/50,'rx')\n",
    "plt.plot( times ,tot(key='temp')/2,'k.')\n",
    "plt.plot( times ,tot(key='hum')/28,'g.')"
   ]
  },
  {
   "cell_type": "code",
   "execution_count": 163,
   "metadata": {},
   "outputs": [],
   "source": [
    "times = np.arange(144)/6\n"
   ]
  },
  {
   "cell_type": "markdown",
   "metadata": {},
   "source": [
    "# There must be a better way\n",
    "\n",
    "the function tot() kind of sucks  \n",
    "- it's not very **numpy**.\n",
    "\n",
    "what we really need is to \n",
    "\n",
    "1. reshape so that a row represents a day \n",
    "1. sum over the columns to get the average."
   ]
  },
  {
   "cell_type": "code",
   "execution_count": 21,
   "metadata": {},
   "outputs": [
    {
     "data": {
      "text/plain": [
       "(array([[ 0,  1,  2,  3],\n",
       "        [ 4,  5,  6,  7],\n",
       "        [ 8,  9, 10, 11]]), array([12, 15, 18, 21]))"
      ]
     },
     "execution_count": 21,
     "metadata": {},
     "output_type": "execute_result"
    }
   ],
   "source": [
    "np.arange(12).reshape(3,4), np.sum(np.arange(12).reshape(3,4), axis=0)"
   ]
  },
  {
   "cell_type": "code",
   "execution_count": 166,
   "metadata": {},
   "outputs": [
    {
     "data": {
      "image/png": "[encoded data removed]",
      "text/plain": [
       "<Figure size 432x288 with 1 Axes>"
      ]
     },
     "metadata": {
      "needs_background": "light"
     },
     "output_type": "display_data"
    }
   ],
   "source": [
    "npts = 4464\n",
    "ndays = npts//24//6\n",
    "\n",
    "cols = [ x for x in 'rgbky']\n",
    "\n",
    "for k in [3,4,5,6]:\n",
    "    mm = data[k]['temp'].reshape(ndays, 24*6)/ndays\n",
    "    mm[mm>1000] = 0\n",
    "    plt.plot(times, np.sum(mm, axis=0), cols.pop(0) + '.')"
   ]
  },
  {
   "cell_type": "code",
   "execution_count": 167,
   "metadata": {},
   "outputs": [],
   "source": [
    "npts = 4464\n",
    "ndays = npts//24//6\n",
    "\n",
    "\n",
    "blacklist = ['time', 'pression', 'ventdir', 'pluie', 'intenspluie']\n",
    "averages = {}\n",
    "\n",
    "for station, series in data.items():\n",
    "    #I stored the times as a field it's an ndarray not dict\n",
    "    if station == 'times': continue\n",
    "    tmp = {}\n",
    "    for tag, xx in series.items():\n",
    "        if tag in blacklist: continue\n",
    "        mm = xx.reshape(ndays, 24*6)/ndays\n",
    "        #clean up the nan\n",
    "        mm[np.isnan(mm)] = 0\n",
    "        #kill outliers in rad\n",
    "        mm[mm>1000] = 0\n",
    "        tmp[tag] = np.sum(mm, axis=0)\n",
    "    averages[station] = tmp\n",
    "     "
   ]
  },
  {
   "cell_type": "markdown",
   "metadata": {},
   "source": [
    "## Let's show them all in a multiplot"
   ]
  },
  {
   "cell_type": "code",
   "execution_count": 216,
   "metadata": {},
   "outputs": [
    {
     "data": {
      "image/png": "[encoded data removed]",
      "text/plain": [
       "<Figure size 576x576 with 4 Axes>"
      ]
     },
     "metadata": {
      "needs_background": "light"
     },
     "output_type": "display_data"
    }
   ],
   "source": [
    "fig, axs = plt.subplots(2,2)\n",
    "#[axi.set_axis_off() for axi in axs.ravel()]\n",
    "fig.set_size_inches(8,8)\n",
    "\n",
    "meteo = averages[5]\n",
    "\n",
    "for k,tag in enumerate(['rafale','temp','hum','rad']):\n",
    "\n",
    "    axs[k % 2 , k // 2].plot(times, meteo[tag],'r.')\n",
    "    axs[k % 2 , k // 2].set_title(tag)\n",
    "    "
   ]
  },
  {
   "cell_type": "markdown",
   "metadata": {},
   "source": [
    "## Humidity and temperature\n",
    "\n",
    "they seem to be correlated so let's do a linear regression to see if that is actually the case.\n",
    "\n",
    "There might be **nan**s in the arrays so mask them out before doing the regression."
   ]
  },
  {
   "cell_type": "code",
   "execution_count": 221,
   "metadata": {},
   "outputs": [],
   "source": [
    "from scipy import stats\n",
    "\n",
    "cors = {}\n",
    "for k in [3,4,5,6,109]:\n",
    "    x = data[k]\n",
    "    X = np.sum( x['temp'].reshape(ndays, 24*6)/ndays, axis=0)\n",
    "    Y = np.sum( x['hum'].reshape(ndays, 24*6)/ndays, axis=0)\n",
    "\n",
    "    mask = ~(np.isnan(X) | np.isnan(Y))\n",
    "    cors[k] = stats.linregress( X[mask], Y[mask])"
   ]
  },
  {
   "cell_type": "code",
   "execution_count": 222,
   "metadata": {},
   "outputs": [
    {
     "data": {
      "text/plain": [
       "{3: LinregressResult(slope=-0.4521593420264222, intercept=85.15287138984661, rvalue=-0.38564285778340424, pvalue=1.8119337773278526e-06, stderr=0.09078166694120798),\n",
       " 4: LinregressResult(slope=-3.0218851479491944, intercept=131.02476950401666, rvalue=-0.9972050918770983, pvalue=7.052354144807788e-162, stderr=0.018999597245034992),\n",
       " 5: LinregressResult(slope=-3.045295531204571, intercept=135.32976589730515, rvalue=-0.9944270164296619, pvalue=1.221080175396012e-140, stderr=0.027093512611454387),\n",
       " 6: LinregressResult(slope=-3.3923551234092395, intercept=139.42847465719487, rvalue=-0.9967246584007131, pvalue=5.3981604125316884e-157, stderr=0.023097731352487678),\n",
       " 109: LinregressResult(slope=-2.6754122057920853, intercept=120.16521149892878, rvalue=-0.976752216382286, pvalue=1.5905017835848804e-95, stderr=0.04962598905569754)}"
      ]
     },
     "execution_count": 222,
     "metadata": {},
     "output_type": "execute_result"
    }
   ],
   "source": [
    "cors"
   ]
  },
  {
   "cell_type": "markdown",
   "metadata": {},
   "source": [
    "### Retiming\n",
    "\n",
    "I have to plot the data against time otherwise it's offset\n",
    "so that midnight is no longer at zero."
   ]
  },
  {
   "cell_type": "code",
   "execution_count": 225,
   "metadata": {},
   "outputs": [
    {
     "data": {
      "text/plain": [
       "[<matplotlib.lines.Line2D at 0x7f5652fa7d68>]"
      ]
     },
     "execution_count": 225,
     "metadata": {},
     "output_type": "execute_result"
    },
    {
     "data": {
      "image/png": "[encoded data removed]",
      "text/plain": [
       "<Figure size 432x288 with 1 Axes>"
      ]
     },
     "metadata": {
      "needs_background": "light"
     },
     "output_type": "display_data"
    }
   ],
   "source": [
    "k = 109\n",
    "\n",
    "vv = cors[k]\n",
    "a, b = vv.slope, vv.intercept\n",
    "\n",
    "x = data[k]\n",
    "X = np.sum( x['temp'].reshape(ndays, 24*6)/ndays, axis=0)\n",
    "Y = np.sum( x['hum'].reshape(ndays, 24*6)/ndays, axis=0)\n",
    "\n",
    "plt.plot(times,Y,'r.')\n",
    "#plt.plot(times,X,'g.')\n",
    "plt.plot(times, a*X + b, 'b.')"
   ]
  },
  {
   "cell_type": "markdown",
   "metadata": {},
   "source": [
    "## Finally calculate the time of max temperature\n",
    "\n",
    "I checked this by hand it seems to be pretty accurate"
   ]
  },
  {
   "cell_type": "code",
   "execution_count": 226,
   "metadata": {},
   "outputs": [
    {
     "data": {
      "text/plain": [
       "['Jul 20 13:40',\n",
       " 'Jul 19 13:50',\n",
       " 'Jul 18 14:20',\n",
       " 'Jul 17 13:00',\n",
       " 'Jul 16 12:30',\n",
       " 'Jul 15 15:40',\n",
       " 'Jul 14 11:50',\n",
       " 'Jul 13 13:30',\n",
       " 'Jul 12 13:50',\n",
       " 'Jul 11 13:30',\n",
       " 'Jul 10 12:30',\n",
       " 'Jul  9 13:40',\n",
       " 'Jul  8 13:50',\n",
       " 'Jul  7 13:40',\n",
       " 'Jul  6 12:20',\n",
       " 'Jul  5 13:50',\n",
       " 'Jul  4 13:30',\n",
       " 'Jul  3 14:20',\n",
       " 'Jul  2 14:10',\n",
       " 'Jul  1 15:40',\n",
       " 'Jun 30 13:40',\n",
       " 'Jun 29 12:40',\n",
       " 'Jun 28 15:20',\n",
       " 'Jun 27 12:50',\n",
       " 'Jun 26 14:10',\n",
       " 'Jun 25 13:20',\n",
       " 'Jun 24 13:30',\n",
       " 'Jun 23 13:30',\n",
       " 'Jun 22 12:20']"
      ]
     },
     "execution_count": 226,
     "metadata": {},
     "output_type": "execute_result"
    }
   ],
   "source": [
    "time_tics = data[3]['time']\n",
    "\n",
    "TS = data[109]['rad']\n",
    "\n",
    "numdays = 30\n",
    "ts = [i for i in range(-1,-1 - numdays*24*6, -24*6)]\n",
    "\n",
    "#use smh as a reference the others don't seem reliable\n",
    "day_intervals = [list(zip( TS, time_tics))[i:j] \n",
    "                                       for i,j in  zip(ts[1:],ts)]\n",
    "mx = [max(day) for day in day_intervals if day]\n",
    "x,y = zip(*mx)\n",
    "[time.ctime(t/1000.)[4:16] for t in y]"
   ]
  },
  {
   "cell_type": "code",
   "execution_count": 76,
   "metadata": {},
   "outputs": [
    {
     "data": {
      "text/plain": [
       "[<matplotlib.lines.Line2D at 0x7e94fd1f2cf8>]"
      ]
     },
     "execution_count": 76,
     "metadata": {},
     "output_type": "execute_result"
    },
    {
     "data": {
      "image/png": "[encoded data removed]",
      "text/plain": [
       "<Figure size 432x288 with 1 Axes>"
      ]
     },
     "metadata": {
      "needs_background": "light"
     },
     "output_type": "display_data"
    }
   ],
   "source": [
    "XS, YS = zip(*mx)\n",
    "YS = [(int(y)//1000 % (24*3600)) /3600 for y in YS]\n",
    "plt.plot(YS,XS, 'rx')"
   ]
  },
  {
   "cell_type": "markdown",
   "metadata": {},
   "source": [
    "## Calculate the length of a day"
   ]
  },
  {
   "cell_type": "code",
   "execution_count": 209,
   "metadata": {},
   "outputs": [
    {
     "name": "stdout",
     "output_type": "stream",
     "text": [
      "3 21.333333333333332 6.0\n",
      "5 21.333333333333332 6.166666666666667\n",
      "109 21.166666666666668 6.0\n",
      "4 21.333333333333332 6.166666666666667\n",
      "6 21.333333333333332 6.166666666666667\n"
     ]
    }
   ],
   "source": [
    "for k, y in averages.items():\n",
    "    if max(y['rad']) == 0: continue\n",
    "    day_light = times[y['rad'] > 4]\n",
    "    print(k, max(day_light), min(day_light) )"
   ]
  },
  {
   "cell_type": "code",
   "execution_count": 208,
   "metadata": {},
   "outputs": [
    {
     "data": {
      "text/plain": [
       "0.0"
      ]
     },
     "execution_count": 208,
     "metadata": {},
     "output_type": "execute_result"
    }
   ],
   "source": [
    "min(averages[44]['rad'])"
   ]
  },
  {
   "cell_type": "code",
   "execution_count": 126,
   "metadata": {},
   "outputs": [
    {
     "data": {
      "text/plain": [
       "[<matplotlib.lines.Line2D at 0x7f565320a668>]"
      ]
     },
     "execution_count": 126,
     "metadata": {},
     "output_type": "execute_result"
    },
    {
     "data": {
      "image/png": "[encoded data removed]",
      "text/plain": [
       "<Figure size 432x288 with 1 Axes>"
      ]
     },
     "metadata": {
      "needs_background": "light"
     },
     "output_type": "display_data"
    }
   ],
   "source": [
    "trans = [int(y)//1000 % (24*3600) /3600 for y in night]\n",
    "trans = [ min(x,8) for x in trans ]\n",
    "\n",
    "plt.plot(range(len(trans)),trans,'rx')"
   ]
  },
  {
   "cell_type": "code",
   "execution_count": 24,
   "metadata": {},
   "outputs": [
    {
     "name": "stdout",
     "output_type": "stream",
     "text": [
      "[master 55a8f72] web\n",
      " 4 files changed, 898 insertions(+), 872 deletions(-)\n",
      " create mode 100644 19July.json\n",
      " create mode 100644 19July.pkl\n",
      " create mode 100644 20July.pkl\n",
      " rewrite romma_again.ipynb (62%)\n",
      "Enumerating objects: 8, done.\n",
      "Counting objects: 100% (8/8), done.\n",
      "Delta compression using up to 4 threads\n",
      "Compressing objects: 100% (5/5), done.\n",
      "Writing objects: 100% (6/6), 340.26 KiB | 965.00 KiB/s, done.\n",
      "Total 6 (delta 1), reused 0 (delta 0)\n",
      "remote: Resolving deltas: 100% (1/1), done.\u001b[K\n",
      "To https://github.com/macbuse/ROMMA.git\n",
      "   6d7d020..55a8f72  master -> master\n"
     ]
    }
   ],
   "source": [
    "! ./.g\n"
   ]
  },
  {
   "cell_type": "code",
   "execution_count": 111,
   "metadata": {},
   "outputs": [
    {
     "data": {
      "text/plain": [
       "9"
      ]
     },
     "execution_count": 111,
     "metadata": {},
     "output_type": "execute_result"
    }
   ],
   "source": [
    "4464 - 4455"
   ]
  },
  {
   "cell_type": "code",
   "execution_count": 115,
   "metadata": {},
   "outputs": [
    {
     "data": {
      "text/plain": [
       "4455"
      ]
     },
     "execution_count": 115,
     "metadata": {},
     "output_type": "execute_result"
    }
   ],
   "source": [
    "tt = get_station(ref_num=109)\n",
    "meteo = html2arrays(tt)\n",
    "len(meteo['time'])"
   ]
  },
  {
   "cell_type": "code",
   "execution_count": 135,
   "metadata": {},
   "outputs": [],
   "source": [
    "index = (meteo['time'] - meteo['time'][0])/600000 \n",
    "index = index.astype(np.int32)"
   ]
  },
  {
   "cell_type": "code",
   "execution_count": 136,
   "metadata": {},
   "outputs": [],
   "source": []
  },
  {
   "cell_type": "code",
   "execution_count": 139,
   "metadata": {},
   "outputs": [
    {
     "data": {
      "text/plain": [
       "9"
      ]
     },
     "execution_count": 139,
     "metadata": {},
     "output_type": "execute_result"
    }
   ],
   "source": [
    "uu = np.diff(index)\n",
    "sum( uu[uu > min(uu)] - min(uu) )"
   ]
  },
  {
   "cell_type": "code",
   "execution_count": 128,
   "metadata": {},
   "outputs": [
    {
     "data": {
      "text/plain": [
       "31"
      ]
     },
     "execution_count": 128,
     "metadata": {},
     "output_type": "execute_result"
    }
   ],
   "source": [
    "4464 // 24 //6"
   ]
  },
  {
   "cell_type": "code",
   "execution_count": 411,
   "metadata": {},
   "outputs": [
    {
     "name": "stdout",
     "output_type": "stream",
     "text": [
      "[master 9bb8207] web\n",
      " 2 files changed, 1445 insertions(+), 1312 deletions(-)\n",
      " rewrite romma_again.ipynb (82%)\n",
      "Enumerating objects: 7, done.\n",
      "Counting objects: 100% (7/7), done.\n",
      "Delta compression using up to 4 threads\n",
      "Compressing objects: 100% (4/4), done.\n",
      "Writing objects: 100% (4/4), 25.10 KiB | 1.79 MiB/s, done.\n",
      "Total 4 (delta 2), reused 0 (delta 0)\n",
      "remote: Resolving deltas: 100% (2/2), completed with 2 local objects.\u001b[K\n",
      "To https://github.com/macbuse/ROMMA.git\n",
      "   6808563..9bb8207  master -> master\n"
     ]
    }
   ],
   "source": [
    "! ./.g"
   ]
  },
  {
   "cell_type": "code",
   "execution_count": 410,
   "metadata": {},
   "outputs": [
    {
     "name": "stdout",
     "output_type": "stream",
     "text": [
      "/home/gregmcshane/ROMMA\n"
     ]
    }
   ],
   "source": [
    "!pwd\n"
   ]
  },
  {
   "cell_type": "code",
   "execution_count": null,
   "metadata": {},
   "outputs": [],
   "source": []
  }
 ],
 "metadata": {
  "kernelspec": {
   "display_name": "Python 3",
   "language": "python",
   "name": "python3"
  },
  "language_info": {
   "codemirror_mode": {
    "name": "ipython",
    "version": 3
   },
   "file_extension": ".py",
   "mimetype": "text/x-python",
   "name": "python",
   "nbconvert_exporter": "python",
   "pygments_lexer": "ipython3",
   "version": "3.6.5"
  }
 },
 "nbformat": 4,
 "nbformat_minor": 2
}
